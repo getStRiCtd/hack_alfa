{
 "cells": [
  {
   "cell_type": "code",
   "execution_count": null,
   "metadata": {},
   "outputs": [],
   "source": [
    "import mlflow \n",
    "import optuna \n",
    "\n",
    "from xgboost import XGBClassifier\n",
    "from sklearn.metrics import roc_auc_score\n",
    "from sklearn.model_selection import train_test_split"
   ]
  },
  {
   "cell_type": "code",
   "execution_count": null,
   "metadata": {},
   "outputs": [],
   "source": [
    "def mlflow_callback(study: optuna.study, trial: optuna.Trial):\n",
    "    mlflow.set_experiment(\"Alfa_Hack\"+target_name)\n",
    "    with mlflow.start_run(run_name=str(trial.number)):\n",
    "        mlflow.log(trial.params)\n",
    "        mlflow.log_metrics({\"roc_auc\":trial.value})\n",
    "\n",
    "\n",
    "def objective_xgboost(trail):\n",
    "    params = {\n",
    "        'booster': trial.suggest_categorical('booster', ['gbtree']),\n",
    "        'max_depth': trial.suggest_int('max_depth', 5, 15),\n",
    "        'learning_rate': trial.suggest_loguniform('learning_rate', 0.01, 1.0),\n",
    "        'n_estimators': trial.suggest_int('n_estimators', 100, 5000),\n",
    "        'min_child_weight': trial.suggest_int('min_child_weight', 1, 10),\n",
    "        'eval_metric':trial.suggest_categorical('eval_metric', ['mlogloss']),\n",
    "    }\n",
    "\n",
    "    model_xgb = XGBClassifier(device='cuda', enable_categorical=True, n_jobs=-1, **params)\n",
    "    model_xgb.fit(x_train, y_train)\n",
    "    y_pred_1 = model_xgb.predict_proba(x_test)[:,1]\n",
    "    score = roc_auc_score(y_test,y_pred_1)\n",
    "\n",
    "    return score"
   ]
  },
  {
   "cell_type": "code",
   "execution_count": null,
   "metadata": {},
   "outputs": [],
   "source": [
    "train_1_df = pd.read_csv('./Data/target_1_train.csv')\n",
    "test_1_df = pd.read_csv('./Data/target_1_train.csv')\n",
    "target_1 = train_1_df['target_1']\n",
    "train_1_df.drop(['target_1'], axis=1, inplace=True)\n",
    "\n",
    "train_2_df = pd.read_csv('./Data/target_2_train.csv')\n",
    "test_2_df = pd.read_csv('./Data/target_2_train.csv')\n",
    "target_2 = train_2_df['target_2']\n",
    "train_2_df.drop(['target_1'], axis=1, inplace=True)\n",
    "\n",
    "train_dfs = [train_1_df, train_2_df]\n",
    "targets = [target_1, target_2]\n",
    "\n",
    "for i in range(2):\n",
    "    target_name = i+1\n",
    "    study = optuna.create_study(study_name=f'target_{i+1}', direction='maximize')\n",
    "    x_train, x_test, y_train, y_test = train_test_split(train_dfs[i], targets[i], test_size=0.2, random_state=42)\n",
    "    study.optimize(objective_xgboost, n_trials=100, show_progress_bar=True, callbacks=[mlflow_callback])"
   ]
  },
  {
   "cell_type": "code",
   "execution_count": null,
   "metadata": {},
   "outputs": [],
   "source": [
    "# Model Eval"
   ]
  }
 ],
 "metadata": {
  "kernelspec": {
   "display_name": "Python 3",
   "language": "python",
   "name": "python3"
  },
  "language_info": {
   "name": "python",
   "version": "3.10.4"
  }
 },
 "nbformat": 4,
 "nbformat_minor": 2
}
