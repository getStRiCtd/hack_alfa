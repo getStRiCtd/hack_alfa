{
 "cells": [
  {
   "cell_type": "markdown",
   "metadata": {
    "collapsed": false,
    "id": "SWHqPqf5dy6R"
   },
   "source": [
    "### Загрузка данных"
   ]
  },
  {
   "cell_type": "code",
   "execution_count": null,
   "metadata": {
    "ExecuteTime": {
     "end_time": "2023-10-08T09:18:22.411192Z",
     "start_time": "2023-10-08T09:18:22.078805200Z"
    },
    "id": "epvct880dy6U"
   },
   "outputs": [],
   "source": [
    "import pandas as pd\n",
    "\n",
    "# чтение файлов\n",
    "train_df = pd.read_parquet('train.parquet')\n",
    "test_df = pd.read_parquet('test.parquet')\n",
    "\n",
    "# отбросим столбец id\n",
    "train_df.drop([\"id\"], axis=1, inplace=True)"
   ]
  },
  {
   "cell_type": "code",
   "execution_count": null,
   "metadata": {
    "ExecuteTime": {
     "end_time": "2023-10-08T09:18:22.425000500Z",
     "start_time": "2023-10-08T09:18:22.411192Z"
    },
    "id": "v-FYVEo0fIMq"
   },
   "outputs": [],
   "source": [
    "train_df['okved'] = train_df['okved'].astype('category')"
   ]
  },
  {
   "cell_type": "markdown",
   "metadata": {
    "collapsed": false,
    "id": "VDrIqbUydy6W"
   },
   "source": [
    "## Обработка данных"
   ]
  },
  {
   "cell_type": "markdown",
   "metadata": {
    "collapsed": false,
    "id": "QxzD8xgydy6W"
   },
   "source": [
    "### Обработка категориальных признаков"
   ]
  },
  {
   "cell_type": "code",
   "execution_count": null,
   "metadata": {
    "ExecuteTime": {
     "end_time": "2023-10-08T09:18:22.612702600Z",
     "start_time": "2023-10-08T09:18:22.427002Z"
    },
    "id": "S6LbdtZIdy6X"
   },
   "outputs": [],
   "source": [
    "cat_cols = [\n",
    "    'channel_code', 'city', 'city_type',\n",
    "    'index_city_code', 'ogrn_month', 'ogrn_year',\n",
    "    'branch_code', 'okved', 'segment'\n",
    "]\n",
    "\n",
    "train_df[cat_cols] = train_df[cat_cols].astype('category')\n",
    "test_df[cat_cols] = test_df[cat_cols].astype('category')"
   ]
  },
  {
   "cell_type": "markdown",
   "metadata": {
    "collapsed": false,
    "id": "IXf3WQ7_dy6X"
   },
   "source": [
    "### Обработка пустых значений"
   ]
  },
  {
   "cell_type": "markdown",
   "metadata": {
    "collapsed": false,
    "id": "t6M7AemCdy6Y"
   },
   "source": [
    "### Признаки с малым кол-вом пропусков заменяем медианой или наиболее часто встречающимся значением"
   ]
  },
  {
   "cell_type": "markdown",
   "metadata": {
    "collapsed": false,
    "id": "Xzpa7qUndy6Z"
   },
   "source": [
    "Заметим, что в этих признаках процент пропусков составляет от 86-93%\n",
    "Поэтому просто отбросим эти признаки, а признак регистрации ОГРН сделаем бинарным - зарегестрировано/незарегистрированно\n"
   ]
  },
  {
   "cell_type": "code",
   "execution_count": null,
   "metadata": {
    "ExecuteTime": {
     "end_time": "2023-10-08T09:18:22.663757Z",
     "start_time": "2023-10-08T09:18:22.615234500Z"
    },
    "id": "lVGUAZnUdy6Z"
   },
   "outputs": [],
   "source": [
    "train_df.drop([\"max_end_plan_non_fin_deals\",\n",
    "               \"min_end_plan_non_fin_deals\",\n",
    "               \"max_start_non_fin_deals\",\n",
    "               \"min_start_non_fin_deals\",\n",
    "               \"max_end_fact_fin_deals\",\n",
    "               \"max_start_fin_deals\",\n",
    "               \"min_end_fact_fin_deals\",\n",
    "               \"min_start_fin_deals\",\n",
    "               ], axis=1, inplace=True)\n",
    "\n",
    "test_df.drop([\"max_end_plan_non_fin_deals\",\n",
    "              \"min_end_plan_non_fin_deals\",\n",
    "              \"max_start_non_fin_deals\",\n",
    "              \"min_start_non_fin_deals\",\n",
    "              \"max_end_fact_fin_deals\",\n",
    "              \"max_start_fin_deals\",\n",
    "              \"min_end_fact_fin_deals\",\n",
    "              \"min_start_fin_deals\",\n",
    "              ], axis=1, inplace=True)"
   ]
  },
  {
   "cell_type": "markdown",
   "metadata": {
    "collapsed": false,
    "id": "GKYyN0PJdy6a"
   },
   "source": [
    "Если значение min(max)_founderpres - NaN значит человек не регистрировал себе ОГРН, иначе регистрировал."
   ]
  },
  {
   "cell_type": "code",
   "execution_count": null,
   "metadata": {
    "ExecuteTime": {
     "end_time": "2023-10-08T09:18:22.675183700Z",
     "start_time": "2023-10-08T09:18:22.663757Z"
    },
    "colab": {
     "base_uri": "https://localhost:8080/",
     "height": 423
    },
    "id": "-Bb0N5NVdy6a",
    "outputId": "97597568-88c6-4732-9543-b3b00fa813ef"
   },
   "outputs": [],
   "source": [
    "train_df[\"ogrn_reg\"] = (train_df[\"max_founderpres\"].isna()*1 - 1) * -1\n",
    "train_df[[\"ogrn_reg\", \"max_founderpres\"]]"
   ]
  },
  {
   "cell_type": "markdown",
   "metadata": {
    "collapsed": false,
    "id": "yDLe6bPNdy6b"
   },
   "source": [
    "Проделаем тоже самое для тестовых данных"
   ]
  },
  {
   "cell_type": "code",
   "execution_count": null,
   "metadata": {
    "ExecuteTime": {
     "end_time": "2023-10-08T09:18:22.726731700Z",
     "start_time": "2023-10-08T09:18:22.676184700Z"
    },
    "id": "dzTZVwGUdy6b"
   },
   "outputs": [],
   "source": [
    "test_df[\"ogrn_reg\"] = (test_df[\"max_founderpres\"].isna()*1 - 1) * -1\n",
    "test_df.drop([\"max_founderpres\", \"min_founderpres\"], axis=1, inplace=True)\n",
    "\n",
    "train_df[\"ogrn_reg\"] = train_df[\"ogrn_reg\"].astype(\"category\")\n",
    "test_df[\"ogrn_reg\"] = test_df[\"ogrn_reg\"].astype(\"category\")\n",
    "# train_df[cat_indexes] = train_df[cat_indexes].astype(\"category\")\n",
    "# test_df[cat_indexes] = test_df[cat_indexes].astype(\"category\")"
   ]
  },
  {
   "cell_type": "markdown",
   "metadata": {
    "collapsed": false,
    "id": "NCEbQD-3dy6b"
   },
   "source": [
    "Проверим, остались ли пропуски после обработки"
   ]
  },
  {
   "cell_type": "markdown",
   "metadata": {
    "id": "n83sI4gSAzIc"
   },
   "source": [
    "В данных есть признак - index_city_code\tкод города в почтовом индексе. Так как мы закодировали города, можно избавиться от этого признака, он будет создавать лишние зависимости"
   ]
  },
  {
   "cell_type": "code",
   "execution_count": null,
   "metadata": {
    "ExecuteTime": {
     "end_time": "2023-10-08T09:18:22.762505600Z",
     "start_time": "2023-10-08T09:18:22.698705600Z"
    },
    "id": "exIKhkgX0waR"
   },
   "outputs": [],
   "source": [
    "train_df.drop(['max_founderpres', 'min_founderpres'], axis=1, inplace=True)"
   ]
  },
  {
   "cell_type": "code",
   "execution_count": null,
   "metadata": {
    "ExecuteTime": {
     "end_time": "2023-10-08T09:18:22.794766300Z",
     "start_time": "2023-10-08T09:18:22.741486100Z"
    },
    "id": "cmSri6PIAz_o"
   },
   "outputs": [],
   "source": [
    "train_df.drop(['index_city_code'], axis=1, inplace=True)\n",
    "\n",
    "# повторим для тестовых данных\n",
    "test_df.drop(['index_city_code'], axis=1, inplace=True)"
   ]
  },
  {
   "cell_type": "markdown",
   "metadata": {
    "id": "DwSvgDIrA2o-"
   },
   "source": [
    "Заметим, что в наших данных есть такие признаки как sum_a_oper_1m и cnt_a_oper_1m - сумма операций типа А за месяц и их количество. Это распространяется и на другие типы операций. Сконструируем новый признак sum/cnt - средняя сумма операции типа A в месяц. Распространим эту логику на все типы операций."
   ]
  },
  {
   "cell_type": "code",
   "execution_count": null,
   "metadata": {
    "ExecuteTime": {
     "end_time": "2023-10-08T09:18:23.113154500Z",
     "start_time": "2023-10-08T09:18:22.797768100Z"
    },
    "id": "6IIUPZvmoLwZ"
   },
   "outputs": [],
   "source": [
    "train_nans = train_df.isna().sum().sort_values(ascending=False).loc[lambda x: x > 0]\n",
    "#в обучающих данных\n",
    "train_nans = train_nans.loc[lambda x: x > 0]\n",
    "smaller_train_nans = train_nans\n",
    "\n",
    "for i in smaller_train_nans.index:\n",
    "    if train_df[i].dtype == \"object\" or train_df[i].dtype == \"category\":\n",
    "        train_df[i].loc[train_df[i].isna()] = train_df[i].value_counts().sort_values(ascending=False).index[0]\n",
    "    else:\n",
    "        train_df[i].loc[train_df[i].isna()] = train_df[i].median()\n",
    "\n",
    "\n",
    "# в тестовых данных\n",
    "test_nans = test_df.isna().sum().sort_values(ascending=False).loc[lambda x: x > 0]\n",
    "\n",
    "smaller_test_nans = test_nans\n",
    "\n",
    "for i in smaller_test_nans.index:\n",
    "    if test_df[i].dtype == \"category\":\n",
    "        test_df[i].loc[test_df[i].isna()] = test_df[i].value_counts().sort_values(ascending=False).index[0]\n",
    "    else:\n",
    "        test_df[i].loc[test_df[i].isna()] = test_df[i].median()\n",
    "\n",
    "test_nans = test_df.isna().sum().sort_values(ascending=False)"
   ]
  },
  {
   "cell_type": "markdown",
   "metadata": {
    "id": "93NPBOHttWuh"
   },
   "source": [
    "Новые фичи\n"
   ]
  },
  {
   "cell_type": "code",
   "execution_count": null,
   "metadata": {
    "ExecuteTime": {
     "end_time": "2023-10-08T09:18:23.124778400Z",
     "start_time": "2023-10-08T09:18:23.081781600Z"
    },
    "id": "FeD42GcytY3O"
   },
   "outputs": [],
   "source": [
    "# растет ли сумма операций в течении времени\n",
    "check_df = pd.DataFrame()\n",
    "check_df['deb_e_oper_growth'] = train_df['sum_deb_e_oper_1m'] > train_df['sum_deb_e_oper_3m']\n",
    "check_df['deb_f_oper_growth'] = train_df['sum_deb_f_oper_1m'] > train_df['sum_deb_f_oper_3m']\n",
    "check_df['deb_h_oper_growth'] = train_df['sum_deb_h_oper_1m'] > train_df['sum_deb_h_oper_3m']\n",
    "\n",
    "check_df['cred_e_oper_growth'] = train_df['sum_cred_e_oper_1m'] > train_df['sum_cred_e_oper_3m']\n",
    "check_df['cred_f_oper_growth'] = train_df['sum_cred_f_oper_1m'] > train_df['sum_cred_f_oper_3m']\n",
    "check_df['cred_h_oper_growth'] = train_df['sum_cred_h_oper_1m'] > train_df['sum_cred_h_oper_3m']\n",
    "\n",
    "check_df[['deb_e_oper_growth', 'deb_f_oper_growth', 'deb_h_oper_growth']] = check_df[['deb_e_oper_growth', 'deb_f_oper_growth', 'deb_h_oper_growth']].astype('category')\n",
    "check_df[['cred_e_oper_growth', 'cred_f_oper_growth', 'cred_h_oper_growth']] = check_df[['cred_e_oper_growth', 'cred_f_oper_growth', 'cred_h_oper_growth']].astype('category')\n",
    "dumies = pd.get_dummies(train_df, columns=['segment'])\n",
    "check_df = check_df.join(dumies)\n",
    "train_df = check_df\n",
    "\n",
    "\n",
    "check_df = pd.DataFrame()\n",
    "check_df['deb_e_oper_growth'] = test_df['sum_deb_e_oper_1m'] > test_df['sum_deb_e_oper_3m']\n",
    "check_df['deb_f_oper_growth'] = test_df['sum_deb_f_oper_1m'] > test_df['sum_deb_f_oper_3m']\n",
    "check_df['deb_h_oper_growth'] = test_df['sum_deb_h_oper_1m'] > test_df['sum_deb_h_oper_3m']\n",
    "\n",
    "check_df['cred_e_oper_growth'] = test_df['sum_cred_e_oper_1m'] > test_df['sum_cred_e_oper_3m']\n",
    "check_df['cred_f_oper_growth'] = test_df['sum_cred_f_oper_1m'] > test_df['sum_cred_f_oper_3m']\n",
    "check_df['cred_h_oper_growth'] = test_df['sum_cred_h_oper_1m'] > test_df['sum_cred_h_oper_3m']\n",
    "\n",
    "check_df[['deb_e_oper_growth', 'deb_f_oper_growth', 'deb_h_oper_growth']] = check_df[['deb_e_oper_growth', 'deb_f_oper_growth', 'deb_h_oper_growth']].astype('category')\n",
    "check_df[['cred_e_oper_growth', 'cred_f_oper_growth', 'cred_h_oper_growth']] = check_df[['cred_e_oper_growth', 'cred_f_oper_growth', 'cred_h_oper_growth']].astype('category')\n",
    "\n",
    "dumies = pd.get_dummies(test_df, columns=['segment'])\n",
    "check_df = check_df.join(dumies)\n",
    "test_df = check_df"
   ]
  },
  {
   "cell_type": "code",
   "execution_count": null,
   "metadata": {
    "collapsed": false
   },
   "outputs": [],
   "source": [
    "train_df.drop(['index_city_code'], axis=1, inplace=True)\n",
    "test_df.drop(['index_city_code'], axis=1, inplace=True)"
   ]
  },
  {
   "cell_type": "code",
   "execution_count": null,
   "metadata": {
    "ExecuteTime": {
     "end_time": "2023-10-08T09:18:23.968736200Z",
     "start_time": "2023-10-08T09:18:23.349096600Z"
    },
    "collapsed": false
   },
   "outputs": [],
   "source": [
    "# средняя сумма операций различного типа\n",
    "def med_sum_oper(df):\n",
    "    new_features = ['med_sum_oper_a', 'med_sum_oper_b', \n",
    "                    'med_sum_oper_c', 'med_sum_oper_d',\n",
    "                    'med_sum_oper_e','med_sum_oper_f',\n",
    "                    'med_sum_oper_g','med_sum_oper_h']\n",
    "    sum_oper =  [\n",
    "                ('sum_a_oper', 'cnt_a_oper'),\n",
    "                ('sum_b_oper', 'cnt_b_oper'),\n",
    "                ('sum_c_oper', 'cnt_c_oper'),\n",
    "                ('sum_d_oper', 'cnt_d_oper'),\n",
    "                ('sum_e_oper', 'cnt_e_oper'),\n",
    "                ('sum_f_oper', 'cnt_f_oper'),\n",
    "                ('sum_g_oper', 'cnt_g_oper'),\n",
    "                ('sum_h_oper', 'cnt_h_oper'),\n",
    "            ]\n",
    "\n",
    "    for new_feature, origin_features in zip(new_features, sum_oper):\n",
    "        df[new_feature+'_1m'] = df[origin_features[0]+'_1m']/df[origin_features[1]+'_1m']\n",
    "        df[new_feature+'_3m'] = df[origin_features[0]+'_3m']/df[origin_features[1]+'_3m']\n",
    "    \n",
    "    return df\n",
    "\n",
    "train_df = med_sum_oper(train_df)\n",
    "test_df = med_sum_oper(test_df)"
   ]
  },
  {
   "cell_type": "markdown",
   "metadata": {
    "id": "UzPsva-GBOX0"
   },
   "source": [
    "Обработаем выбросы с помощью изолированного дерева"
   ]
  },
  {
   "cell_type": "code",
   "execution_count": null,
   "metadata": {
    "ExecuteTime": {
     "end_time": "2023-10-08T09:18:28.251518600Z",
     "start_time": "2023-10-08T09:18:24.956586200Z"
    },
    "colab": {
     "base_uri": "https://localhost:8080/"
    },
    "id": "z2Du2-YfBPtE",
    "outputId": "ab0a6871-eedc-4194-8d25-35fc90bb3801"
   },
   "outputs": [],
   "source": [
    "from sklearn.ensemble import IsolationForest\n",
    "\n",
    "# Выберем признаки, в которых не будет происходить поиск аномалий (категориальные признаки)\n",
    "cat_cols = [\n",
    "    'channel_code', 'city', 'city_type', 'ogrn_month', 'ogrn_year',\n",
    "    'branch_code', 'okved', 'segment'\n",
    "]\n",
    "\n",
    "# Отфильтруем категориальные признаки из всех признаков\n",
    "no_anomaly_features = [col for col in train_df.columns if col not in cat_cols]\n",
    "\n",
    "\n",
    "df_to_filter = train_df[no_anomaly_features]\n",
    "iso_clf = IsolationForest(random_state=0, contamination=0.2, bootstrap=True).fit(df_to_filter)\n",
    "anomaly = iso_clf.predict(df_to_filter)\n",
    "\n",
    "# Отфильтруем только те строки, которые не являются аномалиями\n",
    "train_df_filtered = train_df[anomaly == 1]\n",
    "\n",
    "# Присоединим отфильтрованные числовые данные к категориальным данным\n",
    "train_df_filtered_with_categorical = train_df_filtered[cat_cols].join(train_df_filtered[no_anomaly_features])\n",
    "print(train_df_filtered_with_categorical.shape)\n",
    "train_df = train_df_filtered_with_categorical"
   ]
  },
  {
   "cell_type": "markdown",
   "metadata": {
    "collapsed": false,
    "id": "B6lo0dFgdy6e"
   },
   "source": [
    "Теперь определим меру взаимной информации для признаков, чтобы понять какие из признаков действительно оказывают влияние на модель"
   ]
  },
  {
   "cell_type": "code",
   "execution_count": null,
   "metadata": {
    "ExecuteTime": {
     "end_time": "2023-10-08T09:18:28.315154300Z",
     "start_time": "2023-10-08T09:18:28.291493300Z"
    },
    "id": "xi6tgDY2dy6e"
   },
   "outputs": [],
   "source": [
    "from sklearn.feature_selection import mutual_info_classif\n",
    "def mutual_inform_sorted(target):\n",
    "    '''\n",
    "    Определение взаимной информации для признаков, \n",
    "    чтобы понять какие из признаков действительно оказывают влияние на модель\n",
    "    '''\n",
    "    y = target.to_numpy().ravel()\n",
    "    mi = mutual_info_classif(X, y)\n",
    "    mi_sc = pd.Series(mi, name=\"MI Scores\", index=X.columns)\n",
    "    mi_sc = mi_sc.sort_values(ascending=False)\n",
    "    \n",
    "    return mi_sc\n",
    "\n",
    "\n",
    "names = [column for column in train_df if column not in ['target_1', 'target_2', 'total_target']]\n",
    "X = train_df[names[:90]]\n",
    "\n",
    "mi_sc_1 = mutual_inform_sorted(train_df[\"target_1\"])\n",
    "mi_sc_2 = mutual_inform_sorted(train_df['target_2'])\n"
   ]
  },
  {
   "cell_type": "code",
   "execution_count": null,
   "metadata": {
    "ExecuteTime": {
     "end_time": "2023-10-08T09:18:28.315154300Z",
     "start_time": "2023-10-08T09:18:28.297990200Z"
    },
    "id": "cvfs5MF4dy6g"
   },
   "outputs": [],
   "source": [
    "# удалим наименее влиятельные признаки\n",
    "zero_mi_cols_1 = mi_sc_1[mi_sc_1 <= 0.015].index.tolist()\n",
    "zero_mi_cols_2 = mi_sc_2[mi_sc_2 <= 0.015].index.tolist()\n",
    "\n",
    "X1_train = train_df.drop(columns=zero_mi_cols_1)\n",
    "X1_test = test_df.drop(columns=zero_mi_cols_1)\n",
    "\n",
    "X2_train = train_df.drop(columns=zero_mi_cols_2)\n",
    "X2_test = test_df.drop(columns=zero_mi_cols_2)"
   ]
  },
  {
   "cell_type": "code",
   "execution_count": null,
   "metadata": {},
   "outputs": [],
   "source": [
    "datasets = [(X1_train, X1_test), (X2_train, X2_test)]\n",
    "for i, elem in enumerate(datasets):\n",
    "    elem[0].to_csv(f'./Data/target_{i+1}_train', index=False)\n",
    "    elem[1].to_csv(f'./Data/target_{i+1}_test', index=False)"
   ]
  }
 ],
 "metadata": {
  "accelerator": "GPU",
  "colab": {
   "gpuType": "T4",
   "provenance": []
  },
  "kernelspec": {
   "display_name": "Python 3 (ipykernel)",
   "language": "python",
   "name": "python3"
  },
  "language_info": {
   "codemirror_mode": {
    "name": "ipython",
    "version": 2
   },
   "file_extension": ".py",
   "mimetype": "text/x-python",
   "name": "python",
   "nbconvert_exporter": "python",
   "pygments_lexer": "ipython2",
   "version": "2.7.6"
  },
  "widgets": {
   "application/vnd.jupyter.widget-state+json": {
    "0083ceaf28d54bcdb85372f025b46fd3": {
     "model_module": "@jupyter-widgets/base",
     "model_module_version": "1.2.0",
     "model_name": "LayoutModel",
     "state": {
      "_model_module": "@jupyter-widgets/base",
      "_model_module_version": "1.2.0",
      "_model_name": "LayoutModel",
      "_view_count": null,
      "_view_module": "@jupyter-widgets/base",
      "_view_module_version": "1.2.0",
      "_view_name": "LayoutView",
      "align_content": null,
      "align_items": null,
      "align_self": null,
      "border": null,
      "bottom": null,
      "display": null,
      "flex": null,
      "flex_flow": null,
      "grid_area": null,
      "grid_auto_columns": null,
      "grid_auto_flow": null,
      "grid_auto_rows": null,
      "grid_column": null,
      "grid_gap": null,
      "grid_row": null,
      "grid_template_areas": null,
      "grid_template_columns": null,
      "grid_template_rows": null,
      "height": null,
      "justify_content": null,
      "justify_items": null,
      "left": null,
      "margin": null,
      "max_height": null,
      "max_width": null,
      "min_height": null,
      "min_width": null,
      "object_fit": null,
      "object_position": null,
      "order": null,
      "overflow": null,
      "overflow_x": null,
      "overflow_y": null,
      "padding": null,
      "right": null,
      "top": null,
      "visibility": null,
      "width": null
     }
    },
    "04b9680492c8481ea25eb67b3ab920a8": {
     "model_module": "@jupyter-widgets/controls",
     "model_module_version": "1.5.0",
     "model_name": "DescriptionStyleModel",
     "state": {
      "_model_module": "@jupyter-widgets/controls",
      "_model_module_version": "1.5.0",
      "_model_name": "DescriptionStyleModel",
      "_view_count": null,
      "_view_module": "@jupyter-widgets/base",
      "_view_module_version": "1.2.0",
      "_view_name": "StyleView",
      "description_width": ""
     }
    },
    "5ab5968de26846b6ad8b38ba2655c9f0": {
     "model_module": "@jupyter-widgets/controls",
     "model_module_version": "1.5.0",
     "model_name": "HTMLModel",
     "state": {
      "_dom_classes": [],
      "_model_module": "@jupyter-widgets/controls",
      "_model_module_version": "1.5.0",
      "_model_name": "HTMLModel",
      "_view_count": null,
      "_view_module": "@jupyter-widgets/controls",
      "_view_module_version": "1.5.0",
      "_view_name": "HTMLView",
      "description": "",
      "description_tooltip": null,
      "layout": "IPY_MODEL_0083ceaf28d54bcdb85372f025b46fd3",
      "placeholder": "​",
      "style": "IPY_MODEL_04b9680492c8481ea25eb67b3ab920a8",
      "value": "Best trial: 0. Best value: 0.918215:   3%"
     }
    },
    "7984ea8d8eaf41b3acfed7abcb8435c1": {
     "model_module": "@jupyter-widgets/controls",
     "model_module_version": "1.5.0",
     "model_name": "DescriptionStyleModel",
     "state": {
      "_model_module": "@jupyter-widgets/controls",
      "_model_module_version": "1.5.0",
      "_model_name": "DescriptionStyleModel",
      "_view_count": null,
      "_view_module": "@jupyter-widgets/base",
      "_view_module_version": "1.2.0",
      "_view_name": "StyleView",
      "description_width": ""
     }
    },
    "86f8e048eff3419191cde24863533390": {
     "model_module": "@jupyter-widgets/controls",
     "model_module_version": "1.5.0",
     "model_name": "ProgressStyleModel",
     "state": {
      "_model_module": "@jupyter-widgets/controls",
      "_model_module_version": "1.5.0",
      "_model_name": "ProgressStyleModel",
      "_view_count": null,
      "_view_module": "@jupyter-widgets/base",
      "_view_module_version": "1.2.0",
      "_view_name": "StyleView",
      "bar_color": null,
      "description_width": ""
     }
    },
    "9c16ba47e2b546898aede433193de81a": {
     "model_module": "@jupyter-widgets/controls",
     "model_module_version": "1.5.0",
     "model_name": "HTMLModel",
     "state": {
      "_dom_classes": [],
      "_model_module": "@jupyter-widgets/controls",
      "_model_module_version": "1.5.0",
      "_model_name": "HTMLModel",
      "_view_count": null,
      "_view_module": "@jupyter-widgets/controls",
      "_view_module_version": "1.5.0",
      "_view_name": "HTMLView",
      "description": "",
      "description_tooltip": null,
      "layout": "IPY_MODEL_d3b26ba7d8ef46ea85ce29ef14c594a4",
      "placeholder": "​",
      "style": "IPY_MODEL_7984ea8d8eaf41b3acfed7abcb8435c1",
      "value": " 3/100 [02:40&lt;1:36:36, 59.76s/it]"
     }
    },
    "b76f5f42e74a4d7f9afca146f19ab568": {
     "model_module": "@jupyter-widgets/controls",
     "model_module_version": "1.5.0",
     "model_name": "FloatProgressModel",
     "state": {
      "_dom_classes": [],
      "_model_module": "@jupyter-widgets/controls",
      "_model_module_version": "1.5.0",
      "_model_name": "FloatProgressModel",
      "_view_count": null,
      "_view_module": "@jupyter-widgets/controls",
      "_view_module_version": "1.5.0",
      "_view_name": "ProgressView",
      "bar_style": "",
      "description": "",
      "description_tooltip": null,
      "layout": "IPY_MODEL_cb48378ac2c949f0959e29a5379810ea",
      "max": 100,
      "min": 0,
      "orientation": "horizontal",
      "style": "IPY_MODEL_86f8e048eff3419191cde24863533390",
      "value": 3
     }
    },
    "cb48378ac2c949f0959e29a5379810ea": {
     "model_module": "@jupyter-widgets/base",
     "model_module_version": "1.2.0",
     "model_name": "LayoutModel",
     "state": {
      "_model_module": "@jupyter-widgets/base",
      "_model_module_version": "1.2.0",
      "_model_name": "LayoutModel",
      "_view_count": null,
      "_view_module": "@jupyter-widgets/base",
      "_view_module_version": "1.2.0",
      "_view_name": "LayoutView",
      "align_content": null,
      "align_items": null,
      "align_self": null,
      "border": null,
      "bottom": null,
      "display": null,
      "flex": null,
      "flex_flow": null,
      "grid_area": null,
      "grid_auto_columns": null,
      "grid_auto_flow": null,
      "grid_auto_rows": null,
      "grid_column": null,
      "grid_gap": null,
      "grid_row": null,
      "grid_template_areas": null,
      "grid_template_columns": null,
      "grid_template_rows": null,
      "height": null,
      "justify_content": null,
      "justify_items": null,
      "left": null,
      "margin": null,
      "max_height": null,
      "max_width": null,
      "min_height": null,
      "min_width": null,
      "object_fit": null,
      "object_position": null,
      "order": null,
      "overflow": null,
      "overflow_x": null,
      "overflow_y": null,
      "padding": null,
      "right": null,
      "top": null,
      "visibility": null,
      "width": null
     }
    },
    "d3b26ba7d8ef46ea85ce29ef14c594a4": {
     "model_module": "@jupyter-widgets/base",
     "model_module_version": "1.2.0",
     "model_name": "LayoutModel",
     "state": {
      "_model_module": "@jupyter-widgets/base",
      "_model_module_version": "1.2.0",
      "_model_name": "LayoutModel",
      "_view_count": null,
      "_view_module": "@jupyter-widgets/base",
      "_view_module_version": "1.2.0",
      "_view_name": "LayoutView",
      "align_content": null,
      "align_items": null,
      "align_self": null,
      "border": null,
      "bottom": null,
      "display": null,
      "flex": null,
      "flex_flow": null,
      "grid_area": null,
      "grid_auto_columns": null,
      "grid_auto_flow": null,
      "grid_auto_rows": null,
      "grid_column": null,
      "grid_gap": null,
      "grid_row": null,
      "grid_template_areas": null,
      "grid_template_columns": null,
      "grid_template_rows": null,
      "height": null,
      "justify_content": null,
      "justify_items": null,
      "left": null,
      "margin": null,
      "max_height": null,
      "max_width": null,
      "min_height": null,
      "min_width": null,
      "object_fit": null,
      "object_position": null,
      "order": null,
      "overflow": null,
      "overflow_x": null,
      "overflow_y": null,
      "padding": null,
      "right": null,
      "top": null,
      "visibility": null,
      "width": null
     }
    },
    "da65920cb76f456184f0b543caeba511": {
     "model_module": "@jupyter-widgets/controls",
     "model_module_version": "1.5.0",
     "model_name": "HBoxModel",
     "state": {
      "_dom_classes": [],
      "_model_module": "@jupyter-widgets/controls",
      "_model_module_version": "1.5.0",
      "_model_name": "HBoxModel",
      "_view_count": null,
      "_view_module": "@jupyter-widgets/controls",
      "_view_module_version": "1.5.0",
      "_view_name": "HBoxView",
      "box_style": "",
      "children": [
       "IPY_MODEL_5ab5968de26846b6ad8b38ba2655c9f0",
       "IPY_MODEL_b76f5f42e74a4d7f9afca146f19ab568",
       "IPY_MODEL_9c16ba47e2b546898aede433193de81a"
      ],
      "layout": "IPY_MODEL_fb775df432da44b5a1fa7e21a110928c"
     }
    },
    "fb775df432da44b5a1fa7e21a110928c": {
     "model_module": "@jupyter-widgets/base",
     "model_module_version": "1.2.0",
     "model_name": "LayoutModel",
     "state": {
      "_model_module": "@jupyter-widgets/base",
      "_model_module_version": "1.2.0",
      "_model_name": "LayoutModel",
      "_view_count": null,
      "_view_module": "@jupyter-widgets/base",
      "_view_module_version": "1.2.0",
      "_view_name": "LayoutView",
      "align_content": null,
      "align_items": null,
      "align_self": null,
      "border": null,
      "bottom": null,
      "display": null,
      "flex": null,
      "flex_flow": null,
      "grid_area": null,
      "grid_auto_columns": null,
      "grid_auto_flow": null,
      "grid_auto_rows": null,
      "grid_column": null,
      "grid_gap": null,
      "grid_row": null,
      "grid_template_areas": null,
      "grid_template_columns": null,
      "grid_template_rows": null,
      "height": null,
      "justify_content": null,
      "justify_items": null,
      "left": null,
      "margin": null,
      "max_height": null,
      "max_width": null,
      "min_height": null,
      "min_width": null,
      "object_fit": null,
      "object_position": null,
      "order": null,
      "overflow": null,
      "overflow_x": null,
      "overflow_y": null,
      "padding": null,
      "right": null,
      "top": null,
      "visibility": null,
      "width": null
     }
    }
   }
  }
 },
 "nbformat": 4,
 "nbformat_minor": 0
}
