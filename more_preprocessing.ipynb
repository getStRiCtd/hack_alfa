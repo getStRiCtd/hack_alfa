{
 "cells": [
  {
   "cell_type": "markdown",
   "source": [
    "### Загрузка данных"
   ],
   "metadata": {
    "collapsed": false
   }
  },
  {
   "cell_type": "code",
   "execution_count": 1,
   "outputs": [
    {
     "data": {
      "text/plain": "   rko_start_months  max_end_fact_fin_deals  max_end_plan_non_fin_deals  \\\n0         -1.279132                     NaN                         NaN   \n1         -1.142591                     NaN                         NaN   \n2          1.812270                     NaN                         NaN   \n3         -0.479407                     NaN                    0.356677   \n4         -1.503690                     NaN                         NaN   \n\n   max_start_fin_deals  max_start_non_fin_deals  min_end_fact_fin_deals  \\\n0                  NaN                      NaN                     NaN   \n1                  NaN                      NaN                     NaN   \n2                  NaN                      NaN                     NaN   \n3                  NaN                -0.332867                     NaN   \n4                  NaN                      NaN                     NaN   \n\n   min_end_plan_non_fin_deals  min_start_fin_deals  min_start_non_fin_deals  \\\n0                         NaN                  NaN                      NaN   \n1                         NaN                  NaN                      NaN   \n2                         NaN                  NaN                      NaN   \n3                   -0.704164                  NaN                 0.905748   \n4                         NaN                  NaN                      NaN   \n\n   balance_amt_avg  ...  cnt_days_cred_g_oper_3m  sum_deb_h_oper_3m  \\\n0         0.495465  ...                 0.352516          -0.081310   \n1         0.441660  ...                -0.188287          -0.650616   \n2         0.721481  ...                -0.323487           0.632731   \n3        -0.825400  ...                -0.323487          -0.003549   \n4        -0.220356  ...                -0.323487           0.182726   \n\n   cnt_deb_h_oper_3m cnt_days_deb_h_oper_3m sum_cred_h_oper_3m  \\\n0           0.210189               1.140808           0.647477   \n1          -0.316563              -1.136536          -0.127326   \n2           2.541558               3.017482           0.033394   \n3          -0.219016               0.228624          -0.428185   \n4          -0.287299              -0.528921          -0.563335   \n\n  cnt_cred_h_oper_3m cnt_days_cred_h_oper_3m  target_1  target_2 total_target  \n0           0.810887                1.909568         0         0            0  \n1          -0.147319               -0.517805         0         0            0  \n2           0.019972                0.578428         0         0            0  \n3          -0.220932               -0.596108         0         0            0  \n4          -0.021506               -0.361201         0         0            0  \n\n[5 rows x 102 columns]",
      "text/html": "<div>\n<style scoped>\n    .dataframe tbody tr th:only-of-type {\n        vertical-align: middle;\n    }\n\n    .dataframe tbody tr th {\n        vertical-align: top;\n    }\n\n    .dataframe thead th {\n        text-align: right;\n    }\n</style>\n<table border=\"1\" class=\"dataframe\">\n  <thead>\n    <tr style=\"text-align: right;\">\n      <th></th>\n      <th>rko_start_months</th>\n      <th>max_end_fact_fin_deals</th>\n      <th>max_end_plan_non_fin_deals</th>\n      <th>max_start_fin_deals</th>\n      <th>max_start_non_fin_deals</th>\n      <th>min_end_fact_fin_deals</th>\n      <th>min_end_plan_non_fin_deals</th>\n      <th>min_start_fin_deals</th>\n      <th>min_start_non_fin_deals</th>\n      <th>balance_amt_avg</th>\n      <th>...</th>\n      <th>cnt_days_cred_g_oper_3m</th>\n      <th>sum_deb_h_oper_3m</th>\n      <th>cnt_deb_h_oper_3m</th>\n      <th>cnt_days_deb_h_oper_3m</th>\n      <th>sum_cred_h_oper_3m</th>\n      <th>cnt_cred_h_oper_3m</th>\n      <th>cnt_days_cred_h_oper_3m</th>\n      <th>target_1</th>\n      <th>target_2</th>\n      <th>total_target</th>\n    </tr>\n  </thead>\n  <tbody>\n    <tr>\n      <th>0</th>\n      <td>-1.279132</td>\n      <td>NaN</td>\n      <td>NaN</td>\n      <td>NaN</td>\n      <td>NaN</td>\n      <td>NaN</td>\n      <td>NaN</td>\n      <td>NaN</td>\n      <td>NaN</td>\n      <td>0.495465</td>\n      <td>...</td>\n      <td>0.352516</td>\n      <td>-0.081310</td>\n      <td>0.210189</td>\n      <td>1.140808</td>\n      <td>0.647477</td>\n      <td>0.810887</td>\n      <td>1.909568</td>\n      <td>0</td>\n      <td>0</td>\n      <td>0</td>\n    </tr>\n    <tr>\n      <th>1</th>\n      <td>-1.142591</td>\n      <td>NaN</td>\n      <td>NaN</td>\n      <td>NaN</td>\n      <td>NaN</td>\n      <td>NaN</td>\n      <td>NaN</td>\n      <td>NaN</td>\n      <td>NaN</td>\n      <td>0.441660</td>\n      <td>...</td>\n      <td>-0.188287</td>\n      <td>-0.650616</td>\n      <td>-0.316563</td>\n      <td>-1.136536</td>\n      <td>-0.127326</td>\n      <td>-0.147319</td>\n      <td>-0.517805</td>\n      <td>0</td>\n      <td>0</td>\n      <td>0</td>\n    </tr>\n    <tr>\n      <th>2</th>\n      <td>1.812270</td>\n      <td>NaN</td>\n      <td>NaN</td>\n      <td>NaN</td>\n      <td>NaN</td>\n      <td>NaN</td>\n      <td>NaN</td>\n      <td>NaN</td>\n      <td>NaN</td>\n      <td>0.721481</td>\n      <td>...</td>\n      <td>-0.323487</td>\n      <td>0.632731</td>\n      <td>2.541558</td>\n      <td>3.017482</td>\n      <td>0.033394</td>\n      <td>0.019972</td>\n      <td>0.578428</td>\n      <td>0</td>\n      <td>0</td>\n      <td>0</td>\n    </tr>\n    <tr>\n      <th>3</th>\n      <td>-0.479407</td>\n      <td>NaN</td>\n      <td>0.356677</td>\n      <td>NaN</td>\n      <td>-0.332867</td>\n      <td>NaN</td>\n      <td>-0.704164</td>\n      <td>NaN</td>\n      <td>0.905748</td>\n      <td>-0.825400</td>\n      <td>...</td>\n      <td>-0.323487</td>\n      <td>-0.003549</td>\n      <td>-0.219016</td>\n      <td>0.228624</td>\n      <td>-0.428185</td>\n      <td>-0.220932</td>\n      <td>-0.596108</td>\n      <td>0</td>\n      <td>0</td>\n      <td>0</td>\n    </tr>\n    <tr>\n      <th>4</th>\n      <td>-1.503690</td>\n      <td>NaN</td>\n      <td>NaN</td>\n      <td>NaN</td>\n      <td>NaN</td>\n      <td>NaN</td>\n      <td>NaN</td>\n      <td>NaN</td>\n      <td>NaN</td>\n      <td>-0.220356</td>\n      <td>...</td>\n      <td>-0.323487</td>\n      <td>0.182726</td>\n      <td>-0.287299</td>\n      <td>-0.528921</td>\n      <td>-0.563335</td>\n      <td>-0.021506</td>\n      <td>-0.361201</td>\n      <td>0</td>\n      <td>0</td>\n      <td>0</td>\n    </tr>\n  </tbody>\n</table>\n<p>5 rows × 102 columns</p>\n</div>"
     },
     "execution_count": 1,
     "metadata": {},
     "output_type": "execute_result"
    }
   ],
   "source": [
    "import pandas as pd\n",
    "\n",
    "# чтение файлов\n",
    "train_df = pd.read_parquet('train.parquet')\n",
    "test_df = pd.read_parquet('test.parquet')\n",
    "\n",
    "# отбросим столбец id\n",
    "train_df.drop([\"id\"], axis=1, inplace=True)\n",
    "train_df.head()"
   ],
   "metadata": {
    "collapsed": false,
    "ExecuteTime": {
     "end_time": "2023-10-08T09:43:43.192128400Z",
     "start_time": "2023-10-08T09:43:42.870183700Z"
    }
   }
  },
  {
   "cell_type": "markdown",
   "source": [
    "## Обработка данных"
   ],
   "metadata": {
    "collapsed": false
   }
  },
  {
   "cell_type": "markdown",
   "source": [
    "### Обработка категориальных признаков"
   ],
   "metadata": {
    "collapsed": false
   }
  },
  {
   "cell_type": "code",
   "execution_count": 2,
   "outputs": [],
   "source": [
    "cat_cols = [\n",
    "    'channel_code', 'city', 'city_type',\n",
    "    'index_city_code', 'ogrn_month', 'ogrn_year',\n",
    "    'branch_code', 'okved', 'segment'\n",
    "]\n",
    "# закодируем категориальные признаки\n",
    "\n",
    "from sklearn.preprocessing import LabelEncoder\n",
    "\n",
    "\n",
    "label_encoder = LabelEncoder()\n",
    "\n",
    "for col in cat_cols:\n",
    "    label_encoder.fit(train_df[col])\n",
    "    train_df[col] = label_encoder.transform(train_df[col])"
   ],
   "metadata": {
    "collapsed": false,
    "ExecuteTime": {
     "end_time": "2023-10-08T09:43:43.695440400Z",
     "start_time": "2023-10-08T09:43:43.191127Z"
    }
   }
  },
  {
   "cell_type": "markdown",
   "source": [
    "### Обработка пустых значений"
   ],
   "metadata": {
    "collapsed": false
   }
  },
  {
   "cell_type": "code",
   "execution_count": 3,
   "outputs": [
    {
     "data": {
      "text/plain": "max_end_plan_non_fin_deals    287521\nmin_end_plan_non_fin_deals    287521\nmax_start_non_fin_deals       287515\nmin_start_non_fin_deals       287515\nmax_end_fact_fin_deals        263086\n                               ...  \nsum_deb_e_oper_1m                  0\nsum_cred_e_oper_3m                 0\nsum_cred_d_oper_1m                 0\nsum_deb_d_oper_1m                  0\ntotal_target                       0\nLength: 102, dtype: int64"
     },
     "execution_count": 3,
     "metadata": {},
     "output_type": "execute_result"
    }
   ],
   "source": [
    "# найдем строки с пустыми значениями\n",
    "train_nans = train_df.isna().sum().sort_values(ascending=False)\n",
    "train_nans"
   ],
   "metadata": {
    "collapsed": false,
    "ExecuteTime": {
     "end_time": "2023-10-08T09:43:43.697442500Z",
     "start_time": "2023-10-08T09:43:43.647634200Z"
    }
   }
  },
  {
   "cell_type": "markdown",
   "source": [
    "### Признаки с малым кол-вом пропусков заменяем медианой или наиболее часто встречающимся значением"
   ],
   "metadata": {
    "collapsed": false
   }
  },
  {
   "cell_type": "code",
   "execution_count": 4,
   "outputs": [
    {
     "name": "stderr",
     "output_type": "stream",
     "text": [
      "C:\\Users\\serpr\\AppData\\Local\\Temp\\ipykernel_5064\\2413672272.py:9: SettingWithCopyWarning: \n",
      "A value is trying to be set on a copy of a slice from a DataFrame\n",
      "\n",
      "See the caveats in the documentation: https://pandas.pydata.org/pandas-docs/stable/user_guide/indexing.html#returning-a-view-versus-a-copy\n",
      "  train_df[i].loc[train_df[i].isna()] = train_df[i].median()\n",
      "C:\\Users\\serpr\\AppData\\Local\\Temp\\ipykernel_5064\\2413672272.py:9: SettingWithCopyWarning: \n",
      "A value is trying to be set on a copy of a slice from a DataFrame\n",
      "\n",
      "See the caveats in the documentation: https://pandas.pydata.org/pandas-docs/stable/user_guide/indexing.html#returning-a-view-versus-a-copy\n",
      "  train_df[i].loc[train_df[i].isna()] = train_df[i].median()\n",
      "C:\\Users\\serpr\\AppData\\Local\\Temp\\ipykernel_5064\\2413672272.py:9: SettingWithCopyWarning: \n",
      "A value is trying to be set on a copy of a slice from a DataFrame\n",
      "\n",
      "See the caveats in the documentation: https://pandas.pydata.org/pandas-docs/stable/user_guide/indexing.html#returning-a-view-versus-a-copy\n",
      "  train_df[i].loc[train_df[i].isna()] = train_df[i].median()\n",
      "C:\\Users\\serpr\\AppData\\Local\\Temp\\ipykernel_5064\\2413672272.py:9: SettingWithCopyWarning: \n",
      "A value is trying to be set on a copy of a slice from a DataFrame\n",
      "\n",
      "See the caveats in the documentation: https://pandas.pydata.org/pandas-docs/stable/user_guide/indexing.html#returning-a-view-versus-a-copy\n",
      "  train_df[i].loc[train_df[i].isna()] = train_df[i].median()\n",
      "C:\\Users\\serpr\\AppData\\Local\\Temp\\ipykernel_5064\\2413672272.py:9: SettingWithCopyWarning: \n",
      "A value is trying to be set on a copy of a slice from a DataFrame\n",
      "\n",
      "See the caveats in the documentation: https://pandas.pydata.org/pandas-docs/stable/user_guide/indexing.html#returning-a-view-versus-a-copy\n",
      "  train_df[i].loc[train_df[i].isna()] = train_df[i].median()\n",
      "C:\\Users\\serpr\\AppData\\Local\\Temp\\ipykernel_5064\\2413672272.py:9: SettingWithCopyWarning: \n",
      "A value is trying to be set on a copy of a slice from a DataFrame\n",
      "\n",
      "See the caveats in the documentation: https://pandas.pydata.org/pandas-docs/stable/user_guide/indexing.html#returning-a-view-versus-a-copy\n",
      "  train_df[i].loc[train_df[i].isna()] = train_df[i].median()\n",
      "C:\\Users\\serpr\\AppData\\Local\\Temp\\ipykernel_5064\\2413672272.py:9: SettingWithCopyWarning: \n",
      "A value is trying to be set on a copy of a slice from a DataFrame\n",
      "\n",
      "See the caveats in the documentation: https://pandas.pydata.org/pandas-docs/stable/user_guide/indexing.html#returning-a-view-versus-a-copy\n",
      "  train_df[i].loc[train_df[i].isna()] = train_df[i].median()\n",
      "C:\\Users\\serpr\\AppData\\Local\\Temp\\ipykernel_5064\\2413672272.py:9: SettingWithCopyWarning: \n",
      "A value is trying to be set on a copy of a slice from a DataFrame\n",
      "\n",
      "See the caveats in the documentation: https://pandas.pydata.org/pandas-docs/stable/user_guide/indexing.html#returning-a-view-versus-a-copy\n",
      "  train_df[i].loc[train_df[i].isna()] = train_df[i].median()\n",
      "C:\\Users\\serpr\\AppData\\Local\\Temp\\ipykernel_5064\\2413672272.py:9: SettingWithCopyWarning: \n",
      "A value is trying to be set on a copy of a slice from a DataFrame\n",
      "\n",
      "See the caveats in the documentation: https://pandas.pydata.org/pandas-docs/stable/user_guide/indexing.html#returning-a-view-versus-a-copy\n",
      "  train_df[i].loc[train_df[i].isna()] = train_df[i].median()\n",
      "C:\\Users\\serpr\\AppData\\Local\\Temp\\ipykernel_5064\\2413672272.py:9: SettingWithCopyWarning: \n",
      "A value is trying to be set on a copy of a slice from a DataFrame\n",
      "\n",
      "See the caveats in the documentation: https://pandas.pydata.org/pandas-docs/stable/user_guide/indexing.html#returning-a-view-versus-a-copy\n",
      "  train_df[i].loc[train_df[i].isna()] = train_df[i].median()\n",
      "C:\\Users\\serpr\\AppData\\Local\\Temp\\ipykernel_5064\\2413672272.py:9: SettingWithCopyWarning: \n",
      "A value is trying to be set on a copy of a slice from a DataFrame\n",
      "\n",
      "See the caveats in the documentation: https://pandas.pydata.org/pandas-docs/stable/user_guide/indexing.html#returning-a-view-versus-a-copy\n",
      "  train_df[i].loc[train_df[i].isna()] = train_df[i].median()\n",
      "C:\\Users\\serpr\\AppData\\Local\\Temp\\ipykernel_5064\\2413672272.py:9: SettingWithCopyWarning: \n",
      "A value is trying to be set on a copy of a slice from a DataFrame\n",
      "\n",
      "See the caveats in the documentation: https://pandas.pydata.org/pandas-docs/stable/user_guide/indexing.html#returning-a-view-versus-a-copy\n",
      "  train_df[i].loc[train_df[i].isna()] = train_df[i].median()\n",
      "C:\\Users\\serpr\\AppData\\Local\\Temp\\ipykernel_5064\\2413672272.py:9: SettingWithCopyWarning: \n",
      "A value is trying to be set on a copy of a slice from a DataFrame\n",
      "\n",
      "See the caveats in the documentation: https://pandas.pydata.org/pandas-docs/stable/user_guide/indexing.html#returning-a-view-versus-a-copy\n",
      "  train_df[i].loc[train_df[i].isna()] = train_df[i].median()\n",
      "C:\\Users\\serpr\\AppData\\Local\\Temp\\ipykernel_5064\\2413672272.py:9: SettingWithCopyWarning: \n",
      "A value is trying to be set on a copy of a slice from a DataFrame\n",
      "\n",
      "See the caveats in the documentation: https://pandas.pydata.org/pandas-docs/stable/user_guide/indexing.html#returning-a-view-versus-a-copy\n",
      "  train_df[i].loc[train_df[i].isna()] = train_df[i].median()\n",
      "C:\\Users\\serpr\\AppData\\Local\\Temp\\ipykernel_5064\\2413672272.py:9: SettingWithCopyWarning: \n",
      "A value is trying to be set on a copy of a slice from a DataFrame\n",
      "\n",
      "See the caveats in the documentation: https://pandas.pydata.org/pandas-docs/stable/user_guide/indexing.html#returning-a-view-versus-a-copy\n",
      "  train_df[i].loc[train_df[i].isna()] = train_df[i].median()\n",
      "C:\\Users\\serpr\\AppData\\Local\\Temp\\ipykernel_5064\\2413672272.py:9: SettingWithCopyWarning: \n",
      "A value is trying to be set on a copy of a slice from a DataFrame\n",
      "\n",
      "See the caveats in the documentation: https://pandas.pydata.org/pandas-docs/stable/user_guide/indexing.html#returning-a-view-versus-a-copy\n",
      "  train_df[i].loc[train_df[i].isna()] = train_df[i].median()\n",
      "C:\\Users\\serpr\\AppData\\Local\\Temp\\ipykernel_5064\\2413672272.py:9: SettingWithCopyWarning: \n",
      "A value is trying to be set on a copy of a slice from a DataFrame\n",
      "\n",
      "See the caveats in the documentation: https://pandas.pydata.org/pandas-docs/stable/user_guide/indexing.html#returning-a-view-versus-a-copy\n",
      "  train_df[i].loc[train_df[i].isna()] = train_df[i].median()\n",
      "C:\\Users\\serpr\\AppData\\Local\\Temp\\ipykernel_5064\\2413672272.py:9: SettingWithCopyWarning: \n",
      "A value is trying to be set on a copy of a slice from a DataFrame\n",
      "\n",
      "See the caveats in the documentation: https://pandas.pydata.org/pandas-docs/stable/user_guide/indexing.html#returning-a-view-versus-a-copy\n",
      "  train_df[i].loc[train_df[i].isna()] = train_df[i].median()\n",
      "C:\\Users\\serpr\\AppData\\Local\\Temp\\ipykernel_5064\\2413672272.py:9: SettingWithCopyWarning: \n",
      "A value is trying to be set on a copy of a slice from a DataFrame\n",
      "\n",
      "See the caveats in the documentation: https://pandas.pydata.org/pandas-docs/stable/user_guide/indexing.html#returning-a-view-versus-a-copy\n",
      "  train_df[i].loc[train_df[i].isna()] = train_df[i].median()\n",
      "C:\\Users\\serpr\\AppData\\Local\\Temp\\ipykernel_5064\\2413672272.py:9: SettingWithCopyWarning: \n",
      "A value is trying to be set on a copy of a slice from a DataFrame\n",
      "\n",
      "See the caveats in the documentation: https://pandas.pydata.org/pandas-docs/stable/user_guide/indexing.html#returning-a-view-versus-a-copy\n",
      "  train_df[i].loc[train_df[i].isna()] = train_df[i].median()\n",
      "C:\\Users\\serpr\\AppData\\Local\\Temp\\ipykernel_5064\\2413672272.py:9: SettingWithCopyWarning: \n",
      "A value is trying to be set on a copy of a slice from a DataFrame\n",
      "\n",
      "See the caveats in the documentation: https://pandas.pydata.org/pandas-docs/stable/user_guide/indexing.html#returning-a-view-versus-a-copy\n",
      "  train_df[i].loc[train_df[i].isna()] = train_df[i].median()\n",
      "C:\\Users\\serpr\\AppData\\Local\\Temp\\ipykernel_5064\\2413672272.py:9: SettingWithCopyWarning: \n",
      "A value is trying to be set on a copy of a slice from a DataFrame\n",
      "\n",
      "See the caveats in the documentation: https://pandas.pydata.org/pandas-docs/stable/user_guide/indexing.html#returning-a-view-versus-a-copy\n",
      "  train_df[i].loc[train_df[i].isna()] = train_df[i].median()\n",
      "C:\\Users\\serpr\\AppData\\Local\\Temp\\ipykernel_5064\\2413672272.py:9: SettingWithCopyWarning: \n",
      "A value is trying to be set on a copy of a slice from a DataFrame\n",
      "\n",
      "See the caveats in the documentation: https://pandas.pydata.org/pandas-docs/stable/user_guide/indexing.html#returning-a-view-versus-a-copy\n",
      "  train_df[i].loc[train_df[i].isna()] = train_df[i].median()\n",
      "C:\\Users\\serpr\\AppData\\Local\\Temp\\ipykernel_5064\\2413672272.py:9: SettingWithCopyWarning: \n",
      "A value is trying to be set on a copy of a slice from a DataFrame\n",
      "\n",
      "See the caveats in the documentation: https://pandas.pydata.org/pandas-docs/stable/user_guide/indexing.html#returning-a-view-versus-a-copy\n",
      "  train_df[i].loc[train_df[i].isna()] = train_df[i].median()\n",
      "C:\\Users\\serpr\\AppData\\Local\\Temp\\ipykernel_5064\\2413672272.py:9: SettingWithCopyWarning: \n",
      "A value is trying to be set on a copy of a slice from a DataFrame\n",
      "\n",
      "See the caveats in the documentation: https://pandas.pydata.org/pandas-docs/stable/user_guide/indexing.html#returning-a-view-versus-a-copy\n",
      "  train_df[i].loc[train_df[i].isna()] = train_df[i].median()\n",
      "C:\\Users\\serpr\\AppData\\Local\\Temp\\ipykernel_5064\\2413672272.py:9: SettingWithCopyWarning: \n",
      "A value is trying to be set on a copy of a slice from a DataFrame\n",
      "\n",
      "See the caveats in the documentation: https://pandas.pydata.org/pandas-docs/stable/user_guide/indexing.html#returning-a-view-versus-a-copy\n",
      "  train_df[i].loc[train_df[i].isna()] = train_df[i].median()\n",
      "C:\\Users\\serpr\\AppData\\Local\\Temp\\ipykernel_5064\\2413672272.py:9: SettingWithCopyWarning: \n",
      "A value is trying to be set on a copy of a slice from a DataFrame\n",
      "\n",
      "See the caveats in the documentation: https://pandas.pydata.org/pandas-docs/stable/user_guide/indexing.html#returning-a-view-versus-a-copy\n",
      "  train_df[i].loc[train_df[i].isna()] = train_df[i].median()\n",
      "C:\\Users\\serpr\\AppData\\Local\\Temp\\ipykernel_5064\\2413672272.py:9: SettingWithCopyWarning: \n",
      "A value is trying to be set on a copy of a slice from a DataFrame\n",
      "\n",
      "See the caveats in the documentation: https://pandas.pydata.org/pandas-docs/stable/user_guide/indexing.html#returning-a-view-versus-a-copy\n",
      "  train_df[i].loc[train_df[i].isna()] = train_df[i].median()\n",
      "C:\\Users\\serpr\\AppData\\Local\\Temp\\ipykernel_5064\\2413672272.py:9: SettingWithCopyWarning: \n",
      "A value is trying to be set on a copy of a slice from a DataFrame\n",
      "\n",
      "See the caveats in the documentation: https://pandas.pydata.org/pandas-docs/stable/user_guide/indexing.html#returning-a-view-versus-a-copy\n",
      "  train_df[i].loc[train_df[i].isna()] = train_df[i].median()\n",
      "C:\\Users\\serpr\\AppData\\Local\\Temp\\ipykernel_5064\\2413672272.py:9: SettingWithCopyWarning: \n",
      "A value is trying to be set on a copy of a slice from a DataFrame\n",
      "\n",
      "See the caveats in the documentation: https://pandas.pydata.org/pandas-docs/stable/user_guide/indexing.html#returning-a-view-versus-a-copy\n",
      "  train_df[i].loc[train_df[i].isna()] = train_df[i].median()\n",
      "C:\\Users\\serpr\\AppData\\Local\\Temp\\ipykernel_5064\\2413672272.py:9: SettingWithCopyWarning: \n",
      "A value is trying to be set on a copy of a slice from a DataFrame\n",
      "\n",
      "See the caveats in the documentation: https://pandas.pydata.org/pandas-docs/stable/user_guide/indexing.html#returning-a-view-versus-a-copy\n",
      "  train_df[i].loc[train_df[i].isna()] = train_df[i].median()\n",
      "C:\\Users\\serpr\\AppData\\Local\\Temp\\ipykernel_5064\\2413672272.py:9: SettingWithCopyWarning: \n",
      "A value is trying to be set on a copy of a slice from a DataFrame\n",
      "\n",
      "See the caveats in the documentation: https://pandas.pydata.org/pandas-docs/stable/user_guide/indexing.html#returning-a-view-versus-a-copy\n",
      "  train_df[i].loc[train_df[i].isna()] = train_df[i].median()\n",
      "C:\\Users\\serpr\\AppData\\Local\\Temp\\ipykernel_5064\\2413672272.py:9: SettingWithCopyWarning: \n",
      "A value is trying to be set on a copy of a slice from a DataFrame\n",
      "\n",
      "See the caveats in the documentation: https://pandas.pydata.org/pandas-docs/stable/user_guide/indexing.html#returning-a-view-versus-a-copy\n",
      "  train_df[i].loc[train_df[i].isna()] = train_df[i].median()\n",
      "C:\\Users\\serpr\\AppData\\Local\\Temp\\ipykernel_5064\\2413672272.py:9: SettingWithCopyWarning: \n",
      "A value is trying to be set on a copy of a slice from a DataFrame\n",
      "\n",
      "See the caveats in the documentation: https://pandas.pydata.org/pandas-docs/stable/user_guide/indexing.html#returning-a-view-versus-a-copy\n",
      "  train_df[i].loc[train_df[i].isna()] = train_df[i].median()\n",
      "C:\\Users\\serpr\\AppData\\Local\\Temp\\ipykernel_5064\\2413672272.py:9: SettingWithCopyWarning: \n",
      "A value is trying to be set on a copy of a slice from a DataFrame\n",
      "\n",
      "See the caveats in the documentation: https://pandas.pydata.org/pandas-docs/stable/user_guide/indexing.html#returning-a-view-versus-a-copy\n",
      "  train_df[i].loc[train_df[i].isna()] = train_df[i].median()\n",
      "C:\\Users\\serpr\\AppData\\Local\\Temp\\ipykernel_5064\\2413672272.py:9: SettingWithCopyWarning: \n",
      "A value is trying to be set on a copy of a slice from a DataFrame\n",
      "\n",
      "See the caveats in the documentation: https://pandas.pydata.org/pandas-docs/stable/user_guide/indexing.html#returning-a-view-versus-a-copy\n",
      "  train_df[i].loc[train_df[i].isna()] = train_df[i].median()\n",
      "C:\\Users\\serpr\\AppData\\Local\\Temp\\ipykernel_5064\\2413672272.py:9: SettingWithCopyWarning: \n",
      "A value is trying to be set on a copy of a slice from a DataFrame\n",
      "\n",
      "See the caveats in the documentation: https://pandas.pydata.org/pandas-docs/stable/user_guide/indexing.html#returning-a-view-versus-a-copy\n",
      "  train_df[i].loc[train_df[i].isna()] = train_df[i].median()\n",
      "C:\\Users\\serpr\\AppData\\Local\\Temp\\ipykernel_5064\\2413672272.py:9: SettingWithCopyWarning: \n",
      "A value is trying to be set on a copy of a slice from a DataFrame\n",
      "\n",
      "See the caveats in the documentation: https://pandas.pydata.org/pandas-docs/stable/user_guide/indexing.html#returning-a-view-versus-a-copy\n",
      "  train_df[i].loc[train_df[i].isna()] = train_df[i].median()\n",
      "C:\\Users\\serpr\\AppData\\Local\\Temp\\ipykernel_5064\\2413672272.py:9: SettingWithCopyWarning: \n",
      "A value is trying to be set on a copy of a slice from a DataFrame\n",
      "\n",
      "See the caveats in the documentation: https://pandas.pydata.org/pandas-docs/stable/user_guide/indexing.html#returning-a-view-versus-a-copy\n",
      "  train_df[i].loc[train_df[i].isna()] = train_df[i].median()\n",
      "C:\\Users\\serpr\\AppData\\Local\\Temp\\ipykernel_5064\\2413672272.py:9: SettingWithCopyWarning: \n",
      "A value is trying to be set on a copy of a slice from a DataFrame\n",
      "\n",
      "See the caveats in the documentation: https://pandas.pydata.org/pandas-docs/stable/user_guide/indexing.html#returning-a-view-versus-a-copy\n",
      "  train_df[i].loc[train_df[i].isna()] = train_df[i].median()\n",
      "C:\\Users\\serpr\\AppData\\Local\\Temp\\ipykernel_5064\\2413672272.py:9: SettingWithCopyWarning: \n",
      "A value is trying to be set on a copy of a slice from a DataFrame\n",
      "\n",
      "See the caveats in the documentation: https://pandas.pydata.org/pandas-docs/stable/user_guide/indexing.html#returning-a-view-versus-a-copy\n",
      "  train_df[i].loc[train_df[i].isna()] = train_df[i].median()\n",
      "C:\\Users\\serpr\\AppData\\Local\\Temp\\ipykernel_5064\\2413672272.py:9: SettingWithCopyWarning: \n",
      "A value is trying to be set on a copy of a slice from a DataFrame\n",
      "\n",
      "See the caveats in the documentation: https://pandas.pydata.org/pandas-docs/stable/user_guide/indexing.html#returning-a-view-versus-a-copy\n",
      "  train_df[i].loc[train_df[i].isna()] = train_df[i].median()\n",
      "C:\\Users\\serpr\\AppData\\Local\\Temp\\ipykernel_5064\\2413672272.py:9: SettingWithCopyWarning: \n",
      "A value is trying to be set on a copy of a slice from a DataFrame\n",
      "\n",
      "See the caveats in the documentation: https://pandas.pydata.org/pandas-docs/stable/user_guide/indexing.html#returning-a-view-versus-a-copy\n",
      "  train_df[i].loc[train_df[i].isna()] = train_df[i].median()\n",
      "C:\\Users\\serpr\\AppData\\Local\\Temp\\ipykernel_5064\\2413672272.py:9: SettingWithCopyWarning: \n",
      "A value is trying to be set on a copy of a slice from a DataFrame\n",
      "\n",
      "See the caveats in the documentation: https://pandas.pydata.org/pandas-docs/stable/user_guide/indexing.html#returning-a-view-versus-a-copy\n",
      "  train_df[i].loc[train_df[i].isna()] = train_df[i].median()\n",
      "C:\\Users\\serpr\\AppData\\Local\\Temp\\ipykernel_5064\\2413672272.py:9: SettingWithCopyWarning: \n",
      "A value is trying to be set on a copy of a slice from a DataFrame\n",
      "\n",
      "See the caveats in the documentation: https://pandas.pydata.org/pandas-docs/stable/user_guide/indexing.html#returning-a-view-versus-a-copy\n",
      "  train_df[i].loc[train_df[i].isna()] = train_df[i].median()\n",
      "C:\\Users\\serpr\\AppData\\Local\\Temp\\ipykernel_5064\\2413672272.py:9: SettingWithCopyWarning: \n",
      "A value is trying to be set on a copy of a slice from a DataFrame\n",
      "\n",
      "See the caveats in the documentation: https://pandas.pydata.org/pandas-docs/stable/user_guide/indexing.html#returning-a-view-versus-a-copy\n",
      "  train_df[i].loc[train_df[i].isna()] = train_df[i].median()\n",
      "C:\\Users\\serpr\\AppData\\Local\\Temp\\ipykernel_5064\\2413672272.py:9: SettingWithCopyWarning: \n",
      "A value is trying to be set on a copy of a slice from a DataFrame\n",
      "\n",
      "See the caveats in the documentation: https://pandas.pydata.org/pandas-docs/stable/user_guide/indexing.html#returning-a-view-versus-a-copy\n",
      "  train_df[i].loc[train_df[i].isna()] = train_df[i].median()\n",
      "C:\\Users\\serpr\\AppData\\Local\\Temp\\ipykernel_5064\\2413672272.py:9: SettingWithCopyWarning: \n",
      "A value is trying to be set on a copy of a slice from a DataFrame\n",
      "\n",
      "See the caveats in the documentation: https://pandas.pydata.org/pandas-docs/stable/user_guide/indexing.html#returning-a-view-versus-a-copy\n",
      "  train_df[i].loc[train_df[i].isna()] = train_df[i].median()\n",
      "C:\\Users\\serpr\\AppData\\Local\\Temp\\ipykernel_5064\\2413672272.py:9: SettingWithCopyWarning: \n",
      "A value is trying to be set on a copy of a slice from a DataFrame\n",
      "\n",
      "See the caveats in the documentation: https://pandas.pydata.org/pandas-docs/stable/user_guide/indexing.html#returning-a-view-versus-a-copy\n",
      "  train_df[i].loc[train_df[i].isna()] = train_df[i].median()\n",
      "C:\\Users\\serpr\\AppData\\Local\\Temp\\ipykernel_5064\\2413672272.py:9: SettingWithCopyWarning: \n",
      "A value is trying to be set on a copy of a slice from a DataFrame\n",
      "\n",
      "See the caveats in the documentation: https://pandas.pydata.org/pandas-docs/stable/user_guide/indexing.html#returning-a-view-versus-a-copy\n",
      "  train_df[i].loc[train_df[i].isna()] = train_df[i].median()\n",
      "C:\\Users\\serpr\\AppData\\Local\\Temp\\ipykernel_5064\\2413672272.py:9: SettingWithCopyWarning: \n",
      "A value is trying to be set on a copy of a slice from a DataFrame\n",
      "\n",
      "See the caveats in the documentation: https://pandas.pydata.org/pandas-docs/stable/user_guide/indexing.html#returning-a-view-versus-a-copy\n",
      "  train_df[i].loc[train_df[i].isna()] = train_df[i].median()\n",
      "C:\\Users\\serpr\\AppData\\Local\\Temp\\ipykernel_5064\\2413672272.py:9: SettingWithCopyWarning: \n",
      "A value is trying to be set on a copy of a slice from a DataFrame\n",
      "\n",
      "See the caveats in the documentation: https://pandas.pydata.org/pandas-docs/stable/user_guide/indexing.html#returning-a-view-versus-a-copy\n",
      "  train_df[i].loc[train_df[i].isna()] = train_df[i].median()\n",
      "C:\\Users\\serpr\\AppData\\Local\\Temp\\ipykernel_5064\\2413672272.py:9: SettingWithCopyWarning: \n",
      "A value is trying to be set on a copy of a slice from a DataFrame\n",
      "\n",
      "See the caveats in the documentation: https://pandas.pydata.org/pandas-docs/stable/user_guide/indexing.html#returning-a-view-versus-a-copy\n",
      "  train_df[i].loc[train_df[i].isna()] = train_df[i].median()\n",
      "C:\\Users\\serpr\\AppData\\Local\\Temp\\ipykernel_5064\\2413672272.py:9: SettingWithCopyWarning: \n",
      "A value is trying to be set on a copy of a slice from a DataFrame\n",
      "\n",
      "See the caveats in the documentation: https://pandas.pydata.org/pandas-docs/stable/user_guide/indexing.html#returning-a-view-versus-a-copy\n",
      "  train_df[i].loc[train_df[i].isna()] = train_df[i].median()\n",
      "C:\\Users\\serpr\\AppData\\Local\\Temp\\ipykernel_5064\\2413672272.py:19: SettingWithCopyWarning: \n",
      "A value is trying to be set on a copy of a slice from a DataFrame\n",
      "\n",
      "See the caveats in the documentation: https://pandas.pydata.org/pandas-docs/stable/user_guide/indexing.html#returning-a-view-versus-a-copy\n",
      "  test_df[i].loc[test_df[i].isna()] = test_df[i].value_counts().sort_values(ascending=False).index[0]\n",
      "C:\\Users\\serpr\\AppData\\Local\\Temp\\ipykernel_5064\\2413672272.py:19: SettingWithCopyWarning: \n",
      "A value is trying to be set on a copy of a slice from a DataFrame\n",
      "\n",
      "See the caveats in the documentation: https://pandas.pydata.org/pandas-docs/stable/user_guide/indexing.html#returning-a-view-versus-a-copy\n",
      "  test_df[i].loc[test_df[i].isna()] = test_df[i].value_counts().sort_values(ascending=False).index[0]\n",
      "C:\\Users\\serpr\\AppData\\Local\\Temp\\ipykernel_5064\\2413672272.py:19: SettingWithCopyWarning: \n",
      "A value is trying to be set on a copy of a slice from a DataFrame\n",
      "\n",
      "See the caveats in the documentation: https://pandas.pydata.org/pandas-docs/stable/user_guide/indexing.html#returning-a-view-versus-a-copy\n",
      "  test_df[i].loc[test_df[i].isna()] = test_df[i].value_counts().sort_values(ascending=False).index[0]\n",
      "C:\\Users\\serpr\\AppData\\Local\\Temp\\ipykernel_5064\\2413672272.py:21: SettingWithCopyWarning: \n",
      "A value is trying to be set on a copy of a slice from a DataFrame\n",
      "\n",
      "See the caveats in the documentation: https://pandas.pydata.org/pandas-docs/stable/user_guide/indexing.html#returning-a-view-versus-a-copy\n",
      "  test_df[i].loc[test_df[i].isna()] = test_df[i].median()\n",
      "C:\\Users\\serpr\\AppData\\Local\\Temp\\ipykernel_5064\\2413672272.py:21: SettingWithCopyWarning: \n",
      "A value is trying to be set on a copy of a slice from a DataFrame\n",
      "\n",
      "See the caveats in the documentation: https://pandas.pydata.org/pandas-docs/stable/user_guide/indexing.html#returning-a-view-versus-a-copy\n",
      "  test_df[i].loc[test_df[i].isna()] = test_df[i].median()\n",
      "C:\\Users\\serpr\\AppData\\Local\\Temp\\ipykernel_5064\\2413672272.py:21: SettingWithCopyWarning: \n",
      "A value is trying to be set on a copy of a slice from a DataFrame\n",
      "\n",
      "See the caveats in the documentation: https://pandas.pydata.org/pandas-docs/stable/user_guide/indexing.html#returning-a-view-versus-a-copy\n",
      "  test_df[i].loc[test_df[i].isna()] = test_df[i].median()\n",
      "C:\\Users\\serpr\\AppData\\Local\\Temp\\ipykernel_5064\\2413672272.py:21: SettingWithCopyWarning: \n",
      "A value is trying to be set on a copy of a slice from a DataFrame\n",
      "\n",
      "See the caveats in the documentation: https://pandas.pydata.org/pandas-docs/stable/user_guide/indexing.html#returning-a-view-versus-a-copy\n",
      "  test_df[i].loc[test_df[i].isna()] = test_df[i].median()\n",
      "C:\\Users\\serpr\\AppData\\Local\\Temp\\ipykernel_5064\\2413672272.py:19: SettingWithCopyWarning: \n",
      "A value is trying to be set on a copy of a slice from a DataFrame\n",
      "\n",
      "See the caveats in the documentation: https://pandas.pydata.org/pandas-docs/stable/user_guide/indexing.html#returning-a-view-versus-a-copy\n",
      "  test_df[i].loc[test_df[i].isna()] = test_df[i].value_counts().sort_values(ascending=False).index[0]\n",
      "C:\\Users\\serpr\\AppData\\Local\\Temp\\ipykernel_5064\\2413672272.py:21: SettingWithCopyWarning: \n",
      "A value is trying to be set on a copy of a slice from a DataFrame\n",
      "\n",
      "See the caveats in the documentation: https://pandas.pydata.org/pandas-docs/stable/user_guide/indexing.html#returning-a-view-versus-a-copy\n",
      "  test_df[i].loc[test_df[i].isna()] = test_df[i].median()\n",
      "C:\\Users\\serpr\\AppData\\Local\\Temp\\ipykernel_5064\\2413672272.py:21: SettingWithCopyWarning: \n",
      "A value is trying to be set on a copy of a slice from a DataFrame\n",
      "\n",
      "See the caveats in the documentation: https://pandas.pydata.org/pandas-docs/stable/user_guide/indexing.html#returning-a-view-versus-a-copy\n",
      "  test_df[i].loc[test_df[i].isna()] = test_df[i].median()\n",
      "C:\\Users\\serpr\\AppData\\Local\\Temp\\ipykernel_5064\\2413672272.py:21: SettingWithCopyWarning: \n",
      "A value is trying to be set on a copy of a slice from a DataFrame\n",
      "\n",
      "See the caveats in the documentation: https://pandas.pydata.org/pandas-docs/stable/user_guide/indexing.html#returning-a-view-versus-a-copy\n",
      "  test_df[i].loc[test_df[i].isna()] = test_df[i].median()\n",
      "C:\\Users\\serpr\\AppData\\Local\\Temp\\ipykernel_5064\\2413672272.py:21: SettingWithCopyWarning: \n",
      "A value is trying to be set on a copy of a slice from a DataFrame\n",
      "\n",
      "See the caveats in the documentation: https://pandas.pydata.org/pandas-docs/stable/user_guide/indexing.html#returning-a-view-versus-a-copy\n",
      "  test_df[i].loc[test_df[i].isna()] = test_df[i].median()\n",
      "C:\\Users\\serpr\\AppData\\Local\\Temp\\ipykernel_5064\\2413672272.py:21: SettingWithCopyWarning: \n",
      "A value is trying to be set on a copy of a slice from a DataFrame\n",
      "\n",
      "See the caveats in the documentation: https://pandas.pydata.org/pandas-docs/stable/user_guide/indexing.html#returning-a-view-versus-a-copy\n",
      "  test_df[i].loc[test_df[i].isna()] = test_df[i].median()\n",
      "C:\\Users\\serpr\\AppData\\Local\\Temp\\ipykernel_5064\\2413672272.py:21: SettingWithCopyWarning: \n",
      "A value is trying to be set on a copy of a slice from a DataFrame\n",
      "\n",
      "See the caveats in the documentation: https://pandas.pydata.org/pandas-docs/stable/user_guide/indexing.html#returning-a-view-versus-a-copy\n",
      "  test_df[i].loc[test_df[i].isna()] = test_df[i].median()\n",
      "C:\\Users\\serpr\\AppData\\Local\\Temp\\ipykernel_5064\\2413672272.py:21: SettingWithCopyWarning: \n",
      "A value is trying to be set on a copy of a slice from a DataFrame\n",
      "\n",
      "See the caveats in the documentation: https://pandas.pydata.org/pandas-docs/stable/user_guide/indexing.html#returning-a-view-versus-a-copy\n",
      "  test_df[i].loc[test_df[i].isna()] = test_df[i].median()\n",
      "C:\\Users\\serpr\\AppData\\Local\\Temp\\ipykernel_5064\\2413672272.py:21: SettingWithCopyWarning: \n",
      "A value is trying to be set on a copy of a slice from a DataFrame\n",
      "\n",
      "See the caveats in the documentation: https://pandas.pydata.org/pandas-docs/stable/user_guide/indexing.html#returning-a-view-versus-a-copy\n",
      "  test_df[i].loc[test_df[i].isna()] = test_df[i].median()\n",
      "C:\\Users\\serpr\\AppData\\Local\\Temp\\ipykernel_5064\\2413672272.py:21: SettingWithCopyWarning: \n",
      "A value is trying to be set on a copy of a slice from a DataFrame\n",
      "\n",
      "See the caveats in the documentation: https://pandas.pydata.org/pandas-docs/stable/user_guide/indexing.html#returning-a-view-versus-a-copy\n",
      "  test_df[i].loc[test_df[i].isna()] = test_df[i].median()\n",
      "C:\\Users\\serpr\\AppData\\Local\\Temp\\ipykernel_5064\\2413672272.py:21: SettingWithCopyWarning: \n",
      "A value is trying to be set on a copy of a slice from a DataFrame\n",
      "\n",
      "See the caveats in the documentation: https://pandas.pydata.org/pandas-docs/stable/user_guide/indexing.html#returning-a-view-versus-a-copy\n",
      "  test_df[i].loc[test_df[i].isna()] = test_df[i].median()\n",
      "C:\\Users\\serpr\\AppData\\Local\\Temp\\ipykernel_5064\\2413672272.py:21: SettingWithCopyWarning: \n",
      "A value is trying to be set on a copy of a slice from a DataFrame\n",
      "\n",
      "See the caveats in the documentation: https://pandas.pydata.org/pandas-docs/stable/user_guide/indexing.html#returning-a-view-versus-a-copy\n",
      "  test_df[i].loc[test_df[i].isna()] = test_df[i].median()\n",
      "C:\\Users\\serpr\\AppData\\Local\\Temp\\ipykernel_5064\\2413672272.py:21: SettingWithCopyWarning: \n",
      "A value is trying to be set on a copy of a slice from a DataFrame\n",
      "\n",
      "See the caveats in the documentation: https://pandas.pydata.org/pandas-docs/stable/user_guide/indexing.html#returning-a-view-versus-a-copy\n",
      "  test_df[i].loc[test_df[i].isna()] = test_df[i].median()\n",
      "C:\\Users\\serpr\\AppData\\Local\\Temp\\ipykernel_5064\\2413672272.py:21: SettingWithCopyWarning: \n",
      "A value is trying to be set on a copy of a slice from a DataFrame\n",
      "\n",
      "See the caveats in the documentation: https://pandas.pydata.org/pandas-docs/stable/user_guide/indexing.html#returning-a-view-versus-a-copy\n",
      "  test_df[i].loc[test_df[i].isna()] = test_df[i].median()\n",
      "C:\\Users\\serpr\\AppData\\Local\\Temp\\ipykernel_5064\\2413672272.py:21: SettingWithCopyWarning: \n",
      "A value is trying to be set on a copy of a slice from a DataFrame\n",
      "\n",
      "See the caveats in the documentation: https://pandas.pydata.org/pandas-docs/stable/user_guide/indexing.html#returning-a-view-versus-a-copy\n",
      "  test_df[i].loc[test_df[i].isna()] = test_df[i].median()\n",
      "C:\\Users\\serpr\\AppData\\Local\\Temp\\ipykernel_5064\\2413672272.py:21: SettingWithCopyWarning: \n",
      "A value is trying to be set on a copy of a slice from a DataFrame\n",
      "\n",
      "See the caveats in the documentation: https://pandas.pydata.org/pandas-docs/stable/user_guide/indexing.html#returning-a-view-versus-a-copy\n",
      "  test_df[i].loc[test_df[i].isna()] = test_df[i].median()\n",
      "C:\\Users\\serpr\\AppData\\Local\\Temp\\ipykernel_5064\\2413672272.py:21: SettingWithCopyWarning: \n",
      "A value is trying to be set on a copy of a slice from a DataFrame\n",
      "\n",
      "See the caveats in the documentation: https://pandas.pydata.org/pandas-docs/stable/user_guide/indexing.html#returning-a-view-versus-a-copy\n",
      "  test_df[i].loc[test_df[i].isna()] = test_df[i].median()\n",
      "C:\\Users\\serpr\\AppData\\Local\\Temp\\ipykernel_5064\\2413672272.py:21: SettingWithCopyWarning: \n",
      "A value is trying to be set on a copy of a slice from a DataFrame\n",
      "\n",
      "See the caveats in the documentation: https://pandas.pydata.org/pandas-docs/stable/user_guide/indexing.html#returning-a-view-versus-a-copy\n",
      "  test_df[i].loc[test_df[i].isna()] = test_df[i].median()\n",
      "C:\\Users\\serpr\\AppData\\Local\\Temp\\ipykernel_5064\\2413672272.py:21: SettingWithCopyWarning: \n",
      "A value is trying to be set on a copy of a slice from a DataFrame\n",
      "\n",
      "See the caveats in the documentation: https://pandas.pydata.org/pandas-docs/stable/user_guide/indexing.html#returning-a-view-versus-a-copy\n",
      "  test_df[i].loc[test_df[i].isna()] = test_df[i].median()\n",
      "C:\\Users\\serpr\\AppData\\Local\\Temp\\ipykernel_5064\\2413672272.py:21: SettingWithCopyWarning: \n",
      "A value is trying to be set on a copy of a slice from a DataFrame\n",
      "\n",
      "See the caveats in the documentation: https://pandas.pydata.org/pandas-docs/stable/user_guide/indexing.html#returning-a-view-versus-a-copy\n",
      "  test_df[i].loc[test_df[i].isna()] = test_df[i].median()\n",
      "C:\\Users\\serpr\\AppData\\Local\\Temp\\ipykernel_5064\\2413672272.py:21: SettingWithCopyWarning: \n",
      "A value is trying to be set on a copy of a slice from a DataFrame\n",
      "\n",
      "See the caveats in the documentation: https://pandas.pydata.org/pandas-docs/stable/user_guide/indexing.html#returning-a-view-versus-a-copy\n",
      "  test_df[i].loc[test_df[i].isna()] = test_df[i].median()\n",
      "C:\\Users\\serpr\\AppData\\Local\\Temp\\ipykernel_5064\\2413672272.py:21: SettingWithCopyWarning: \n",
      "A value is trying to be set on a copy of a slice from a DataFrame\n",
      "\n",
      "See the caveats in the documentation: https://pandas.pydata.org/pandas-docs/stable/user_guide/indexing.html#returning-a-view-versus-a-copy\n",
      "  test_df[i].loc[test_df[i].isna()] = test_df[i].median()\n",
      "C:\\Users\\serpr\\AppData\\Local\\Temp\\ipykernel_5064\\2413672272.py:21: SettingWithCopyWarning: \n",
      "A value is trying to be set on a copy of a slice from a DataFrame\n",
      "\n",
      "See the caveats in the documentation: https://pandas.pydata.org/pandas-docs/stable/user_guide/indexing.html#returning-a-view-versus-a-copy\n",
      "  test_df[i].loc[test_df[i].isna()] = test_df[i].median()\n",
      "C:\\Users\\serpr\\AppData\\Local\\Temp\\ipykernel_5064\\2413672272.py:21: SettingWithCopyWarning: \n",
      "A value is trying to be set on a copy of a slice from a DataFrame\n",
      "\n",
      "See the caveats in the documentation: https://pandas.pydata.org/pandas-docs/stable/user_guide/indexing.html#returning-a-view-versus-a-copy\n",
      "  test_df[i].loc[test_df[i].isna()] = test_df[i].median()\n",
      "C:\\Users\\serpr\\AppData\\Local\\Temp\\ipykernel_5064\\2413672272.py:21: SettingWithCopyWarning: \n",
      "A value is trying to be set on a copy of a slice from a DataFrame\n",
      "\n",
      "See the caveats in the documentation: https://pandas.pydata.org/pandas-docs/stable/user_guide/indexing.html#returning-a-view-versus-a-copy\n",
      "  test_df[i].loc[test_df[i].isna()] = test_df[i].median()\n",
      "C:\\Users\\serpr\\AppData\\Local\\Temp\\ipykernel_5064\\2413672272.py:21: SettingWithCopyWarning: \n",
      "A value is trying to be set on a copy of a slice from a DataFrame\n",
      "\n",
      "See the caveats in the documentation: https://pandas.pydata.org/pandas-docs/stable/user_guide/indexing.html#returning-a-view-versus-a-copy\n",
      "  test_df[i].loc[test_df[i].isna()] = test_df[i].median()\n",
      "C:\\Users\\serpr\\AppData\\Local\\Temp\\ipykernel_5064\\2413672272.py:21: SettingWithCopyWarning: \n",
      "A value is trying to be set on a copy of a slice from a DataFrame\n",
      "\n",
      "See the caveats in the documentation: https://pandas.pydata.org/pandas-docs/stable/user_guide/indexing.html#returning-a-view-versus-a-copy\n",
      "  test_df[i].loc[test_df[i].isna()] = test_df[i].median()\n",
      "C:\\Users\\serpr\\AppData\\Local\\Temp\\ipykernel_5064\\2413672272.py:21: SettingWithCopyWarning: \n",
      "A value is trying to be set on a copy of a slice from a DataFrame\n",
      "\n",
      "See the caveats in the documentation: https://pandas.pydata.org/pandas-docs/stable/user_guide/indexing.html#returning-a-view-versus-a-copy\n",
      "  test_df[i].loc[test_df[i].isna()] = test_df[i].median()\n",
      "C:\\Users\\serpr\\AppData\\Local\\Temp\\ipykernel_5064\\2413672272.py:21: SettingWithCopyWarning: \n",
      "A value is trying to be set on a copy of a slice from a DataFrame\n",
      "\n",
      "See the caveats in the documentation: https://pandas.pydata.org/pandas-docs/stable/user_guide/indexing.html#returning-a-view-versus-a-copy\n",
      "  test_df[i].loc[test_df[i].isna()] = test_df[i].median()\n",
      "C:\\Users\\serpr\\AppData\\Local\\Temp\\ipykernel_5064\\2413672272.py:21: SettingWithCopyWarning: \n",
      "A value is trying to be set on a copy of a slice from a DataFrame\n",
      "\n",
      "See the caveats in the documentation: https://pandas.pydata.org/pandas-docs/stable/user_guide/indexing.html#returning-a-view-versus-a-copy\n",
      "  test_df[i].loc[test_df[i].isna()] = test_df[i].median()\n",
      "C:\\Users\\serpr\\AppData\\Local\\Temp\\ipykernel_5064\\2413672272.py:21: SettingWithCopyWarning: \n",
      "A value is trying to be set on a copy of a slice from a DataFrame\n",
      "\n",
      "See the caveats in the documentation: https://pandas.pydata.org/pandas-docs/stable/user_guide/indexing.html#returning-a-view-versus-a-copy\n",
      "  test_df[i].loc[test_df[i].isna()] = test_df[i].median()\n",
      "C:\\Users\\serpr\\AppData\\Local\\Temp\\ipykernel_5064\\2413672272.py:21: SettingWithCopyWarning: \n",
      "A value is trying to be set on a copy of a slice from a DataFrame\n",
      "\n",
      "See the caveats in the documentation: https://pandas.pydata.org/pandas-docs/stable/user_guide/indexing.html#returning-a-view-versus-a-copy\n",
      "  test_df[i].loc[test_df[i].isna()] = test_df[i].median()\n",
      "C:\\Users\\serpr\\AppData\\Local\\Temp\\ipykernel_5064\\2413672272.py:21: SettingWithCopyWarning: \n",
      "A value is trying to be set on a copy of a slice from a DataFrame\n",
      "\n",
      "See the caveats in the documentation: https://pandas.pydata.org/pandas-docs/stable/user_guide/indexing.html#returning-a-view-versus-a-copy\n",
      "  test_df[i].loc[test_df[i].isna()] = test_df[i].median()\n",
      "C:\\Users\\serpr\\AppData\\Local\\Temp\\ipykernel_5064\\2413672272.py:21: SettingWithCopyWarning: \n",
      "A value is trying to be set on a copy of a slice from a DataFrame\n",
      "\n",
      "See the caveats in the documentation: https://pandas.pydata.org/pandas-docs/stable/user_guide/indexing.html#returning-a-view-versus-a-copy\n",
      "  test_df[i].loc[test_df[i].isna()] = test_df[i].median()\n",
      "C:\\Users\\serpr\\AppData\\Local\\Temp\\ipykernel_5064\\2413672272.py:21: SettingWithCopyWarning: \n",
      "A value is trying to be set on a copy of a slice from a DataFrame\n",
      "\n",
      "See the caveats in the documentation: https://pandas.pydata.org/pandas-docs/stable/user_guide/indexing.html#returning-a-view-versus-a-copy\n",
      "  test_df[i].loc[test_df[i].isna()] = test_df[i].median()\n",
      "C:\\Users\\serpr\\AppData\\Local\\Temp\\ipykernel_5064\\2413672272.py:21: SettingWithCopyWarning: \n",
      "A value is trying to be set on a copy of a slice from a DataFrame\n",
      "\n",
      "See the caveats in the documentation: https://pandas.pydata.org/pandas-docs/stable/user_guide/indexing.html#returning-a-view-versus-a-copy\n",
      "  test_df[i].loc[test_df[i].isna()] = test_df[i].median()\n",
      "C:\\Users\\serpr\\AppData\\Local\\Temp\\ipykernel_5064\\2413672272.py:21: SettingWithCopyWarning: \n",
      "A value is trying to be set on a copy of a slice from a DataFrame\n",
      "\n",
      "See the caveats in the documentation: https://pandas.pydata.org/pandas-docs/stable/user_guide/indexing.html#returning-a-view-versus-a-copy\n",
      "  test_df[i].loc[test_df[i].isna()] = test_df[i].median()\n",
      "C:\\Users\\serpr\\AppData\\Local\\Temp\\ipykernel_5064\\2413672272.py:21: SettingWithCopyWarning: \n",
      "A value is trying to be set on a copy of a slice from a DataFrame\n",
      "\n",
      "See the caveats in the documentation: https://pandas.pydata.org/pandas-docs/stable/user_guide/indexing.html#returning-a-view-versus-a-copy\n",
      "  test_df[i].loc[test_df[i].isna()] = test_df[i].median()\n",
      "C:\\Users\\serpr\\AppData\\Local\\Temp\\ipykernel_5064\\2413672272.py:21: SettingWithCopyWarning: \n",
      "A value is trying to be set on a copy of a slice from a DataFrame\n",
      "\n",
      "See the caveats in the documentation: https://pandas.pydata.org/pandas-docs/stable/user_guide/indexing.html#returning-a-view-versus-a-copy\n",
      "  test_df[i].loc[test_df[i].isna()] = test_df[i].median()\n",
      "C:\\Users\\serpr\\AppData\\Local\\Temp\\ipykernel_5064\\2413672272.py:21: SettingWithCopyWarning: \n",
      "A value is trying to be set on a copy of a slice from a DataFrame\n",
      "\n",
      "See the caveats in the documentation: https://pandas.pydata.org/pandas-docs/stable/user_guide/indexing.html#returning-a-view-versus-a-copy\n",
      "  test_df[i].loc[test_df[i].isna()] = test_df[i].median()\n",
      "C:\\Users\\serpr\\AppData\\Local\\Temp\\ipykernel_5064\\2413672272.py:21: SettingWithCopyWarning: \n",
      "A value is trying to be set on a copy of a slice from a DataFrame\n",
      "\n",
      "See the caveats in the documentation: https://pandas.pydata.org/pandas-docs/stable/user_guide/indexing.html#returning-a-view-versus-a-copy\n",
      "  test_df[i].loc[test_df[i].isna()] = test_df[i].median()\n",
      "C:\\Users\\serpr\\AppData\\Local\\Temp\\ipykernel_5064\\2413672272.py:21: SettingWithCopyWarning: \n",
      "A value is trying to be set on a copy of a slice from a DataFrame\n",
      "\n",
      "See the caveats in the documentation: https://pandas.pydata.org/pandas-docs/stable/user_guide/indexing.html#returning-a-view-versus-a-copy\n",
      "  test_df[i].loc[test_df[i].isna()] = test_df[i].median()\n",
      "C:\\Users\\serpr\\AppData\\Local\\Temp\\ipykernel_5064\\2413672272.py:21: SettingWithCopyWarning: \n",
      "A value is trying to be set on a copy of a slice from a DataFrame\n",
      "\n",
      "See the caveats in the documentation: https://pandas.pydata.org/pandas-docs/stable/user_guide/indexing.html#returning-a-view-versus-a-copy\n",
      "  test_df[i].loc[test_df[i].isna()] = test_df[i].median()\n",
      "C:\\Users\\serpr\\AppData\\Local\\Temp\\ipykernel_5064\\2413672272.py:21: SettingWithCopyWarning: \n",
      "A value is trying to be set on a copy of a slice from a DataFrame\n",
      "\n",
      "See the caveats in the documentation: https://pandas.pydata.org/pandas-docs/stable/user_guide/indexing.html#returning-a-view-versus-a-copy\n",
      "  test_df[i].loc[test_df[i].isna()] = test_df[i].median()\n",
      "C:\\Users\\serpr\\AppData\\Local\\Temp\\ipykernel_5064\\2413672272.py:21: SettingWithCopyWarning: \n",
      "A value is trying to be set on a copy of a slice from a DataFrame\n",
      "\n",
      "See the caveats in the documentation: https://pandas.pydata.org/pandas-docs/stable/user_guide/indexing.html#returning-a-view-versus-a-copy\n",
      "  test_df[i].loc[test_df[i].isna()] = test_df[i].median()\n",
      "C:\\Users\\serpr\\AppData\\Local\\Temp\\ipykernel_5064\\2413672272.py:21: SettingWithCopyWarning: \n",
      "A value is trying to be set on a copy of a slice from a DataFrame\n",
      "\n",
      "See the caveats in the documentation: https://pandas.pydata.org/pandas-docs/stable/user_guide/indexing.html#returning-a-view-versus-a-copy\n",
      "  test_df[i].loc[test_df[i].isna()] = test_df[i].median()\n",
      "C:\\Users\\serpr\\AppData\\Local\\Temp\\ipykernel_5064\\2413672272.py:21: SettingWithCopyWarning: \n",
      "A value is trying to be set on a copy of a slice from a DataFrame\n",
      "\n",
      "See the caveats in the documentation: https://pandas.pydata.org/pandas-docs/stable/user_guide/indexing.html#returning-a-view-versus-a-copy\n",
      "  test_df[i].loc[test_df[i].isna()] = test_df[i].median()\n",
      "C:\\Users\\serpr\\AppData\\Local\\Temp\\ipykernel_5064\\2413672272.py:19: SettingWithCopyWarning: \n",
      "A value is trying to be set on a copy of a slice from a DataFrame\n",
      "\n",
      "See the caveats in the documentation: https://pandas.pydata.org/pandas-docs/stable/user_guide/indexing.html#returning-a-view-versus-a-copy\n",
      "  test_df[i].loc[test_df[i].isna()] = test_df[i].value_counts().sort_values(ascending=False).index[0]\n",
      "C:\\Users\\serpr\\AppData\\Local\\Temp\\ipykernel_5064\\2413672272.py:21: SettingWithCopyWarning: \n",
      "A value is trying to be set on a copy of a slice from a DataFrame\n",
      "\n",
      "See the caveats in the documentation: https://pandas.pydata.org/pandas-docs/stable/user_guide/indexing.html#returning-a-view-versus-a-copy\n",
      "  test_df[i].loc[test_df[i].isna()] = test_df[i].median()\n",
      "C:\\Users\\serpr\\AppData\\Local\\Temp\\ipykernel_5064\\2413672272.py:21: SettingWithCopyWarning: \n",
      "A value is trying to be set on a copy of a slice from a DataFrame\n",
      "\n",
      "See the caveats in the documentation: https://pandas.pydata.org/pandas-docs/stable/user_guide/indexing.html#returning-a-view-versus-a-copy\n",
      "  test_df[i].loc[test_df[i].isna()] = test_df[i].median()\n",
      "C:\\Users\\serpr\\AppData\\Local\\Temp\\ipykernel_5064\\2413672272.py:21: SettingWithCopyWarning: \n",
      "A value is trying to be set on a copy of a slice from a DataFrame\n",
      "\n",
      "See the caveats in the documentation: https://pandas.pydata.org/pandas-docs/stable/user_guide/indexing.html#returning-a-view-versus-a-copy\n",
      "  test_df[i].loc[test_df[i].isna()] = test_df[i].median()\n",
      "C:\\Users\\serpr\\AppData\\Local\\Temp\\ipykernel_5064\\2413672272.py:19: SettingWithCopyWarning: \n",
      "A value is trying to be set on a copy of a slice from a DataFrame\n",
      "\n",
      "See the caveats in the documentation: https://pandas.pydata.org/pandas-docs/stable/user_guide/indexing.html#returning-a-view-versus-a-copy\n",
      "  test_df[i].loc[test_df[i].isna()] = test_df[i].value_counts().sort_values(ascending=False).index[0]\n",
      "C:\\Users\\serpr\\AppData\\Local\\Temp\\ipykernel_5064\\2413672272.py:19: SettingWithCopyWarning: \n",
      "A value is trying to be set on a copy of a slice from a DataFrame\n",
      "\n",
      "See the caveats in the documentation: https://pandas.pydata.org/pandas-docs/stable/user_guide/indexing.html#returning-a-view-versus-a-copy\n",
      "  test_df[i].loc[test_df[i].isna()] = test_df[i].value_counts().sort_values(ascending=False).index[0]\n",
      "C:\\Users\\serpr\\AppData\\Local\\Temp\\ipykernel_5064\\2413672272.py:21: SettingWithCopyWarning: \n",
      "A value is trying to be set on a copy of a slice from a DataFrame\n",
      "\n",
      "See the caveats in the documentation: https://pandas.pydata.org/pandas-docs/stable/user_guide/indexing.html#returning-a-view-versus-a-copy\n",
      "  test_df[i].loc[test_df[i].isna()] = test_df[i].median()\n",
      "C:\\Users\\serpr\\AppData\\Local\\Temp\\ipykernel_5064\\2413672272.py:19: SettingWithCopyWarning: \n",
      "A value is trying to be set on a copy of a slice from a DataFrame\n",
      "\n",
      "See the caveats in the documentation: https://pandas.pydata.org/pandas-docs/stable/user_guide/indexing.html#returning-a-view-versus-a-copy\n",
      "  test_df[i].loc[test_df[i].isna()] = test_df[i].value_counts().sort_values(ascending=False).index[0]\n"
     ]
    }
   ],
   "source": [
    "# в обучающих данных\n",
    "train_nans = train_nans.loc[lambda x: x > 0]\n",
    "smaller_train_nans = train_nans[10:]\n",
    "\n",
    "for i in smaller_train_nans.index:\n",
    "    if train_df[i].dtype == \"object\":\n",
    "        train_df[i].loc[train_df[i].isna()] = train_df[i].value_counts().sort_values(ascending=False).index[0]\n",
    "    else:\n",
    "        train_df[i].loc[train_df[i].isna()] = train_df[i].median()\n",
    "\n",
    "\n",
    "# в тестовых данных\n",
    "test_nans = test_df.isna().sum().sort_values(ascending=False).loc[lambda x: x > 0]\n",
    "\n",
    "smaller_test_nans = test_nans[10:]\n",
    "\n",
    "for i in smaller_test_nans.index:\n",
    "    if test_df[i].dtype == \"object\":\n",
    "        test_df[i].loc[test_df[i].isna()] = test_df[i].value_counts().sort_values(ascending=False).index[0]\n",
    "    else:\n",
    "        test_df[i].loc[test_df[i].isna()] = test_df[i].median()\n",
    "\n",
    "test_nans = test_df.isna().sum().sort_values(ascending=False)"
   ],
   "metadata": {
    "collapsed": false,
    "ExecuteTime": {
     "end_time": "2023-10-08T09:43:43.999317100Z",
     "start_time": "2023-10-08T09:43:43.687205Z"
    }
   }
  },
  {
   "cell_type": "markdown",
   "source": [
    "### Признаки с большим количеством пропусков\n",
    "Первые топ-10 признаков по пропускам:\n",
    "\n",
    "max_end_plan_non_fin_deals: Кол-во месяцев до максимальной плановой даты закрытия среди текущих сделок по всем срочным продуктам\n",
    "min_end_plan_non_fin_deals: Кол-во месяцев до минимальной плановой даты закрытия среди текущих сделок по всем срочным продуктам\n",
    "min_start_non_fin_deals: Кол-во месяцев до минимальной даты открытия среди текущих сделок по всем срочным продуктам\n",
    "max_start_non_fin_deals: Кол-во месяцев до максимальной даты закрытия среди текущих сделок по всем срочным продуктам\n",
    "\n",
    "max_end_fact_fin_deals: Кол-во месяцев до максимальной фактической даты закрытия среди закрытых сделок по всем срочным продуктам\n",
    "max_start_fin_deals: Кол-во месяцев до максимальной даты закрытия среди закрытых сделок по всем срочным продуктам\n",
    "min_end_fact_fin_deals: Кол-во месяцев до минимальной фактической даты закрытия среди закрытых сделок по всем срочным продуктам\n",
    "min_start_fin_deals: Кол-во месяцев до минимальной даты открытия среди закрытых сделок по всем срочным продуктам\n",
    "\n",
    "max_founderpres: Количество дней, прошедших с первой даты регистрации огрн\n",
    "min_founderpres: Количество дней, прошедших с последней даты регистрации огрн"
   ],
   "metadata": {
    "collapsed": false
   }
  },
  {
   "cell_type": "markdown",
   "source": [
    "Заметим, что в этих признаках процент пропусков составляет от 86-93%\n",
    "Поэтому просто отбросим эти признаки, а признак регистрации ОГРН сделаем бинарным - зарегестрировано/незарегистрированно\n"
   ],
   "metadata": {
    "collapsed": false
   }
  },
  {
   "cell_type": "code",
   "execution_count": 5,
   "outputs": [],
   "source": [
    "train_df.drop([\"max_end_plan_non_fin_deals\",\n",
    "               \"min_end_plan_non_fin_deals\",\n",
    "               \"max_start_non_fin_deals\",\n",
    "               \"min_start_non_fin_deals\",\n",
    "               \"max_end_fact_fin_deals\",\n",
    "               \"max_start_fin_deals\",\n",
    "               \"min_end_fact_fin_deals\",\n",
    "               \"min_start_fin_deals\",\n",
    "               ], axis=1, inplace=True)\n",
    "\n",
    "test_df.drop([\"max_end_plan_non_fin_deals\",\n",
    "              \"min_end_plan_non_fin_deals\",\n",
    "              \"max_start_non_fin_deals\",\n",
    "              \"min_start_non_fin_deals\",\n",
    "              \"max_end_fact_fin_deals\",\n",
    "              \"max_start_fin_deals\",\n",
    "              \"min_end_fact_fin_deals\",\n",
    "              \"min_start_fin_deals\",\n",
    "              ], axis=1, inplace=True)"
   ],
   "metadata": {
    "collapsed": false,
    "ExecuteTime": {
     "end_time": "2023-10-08T09:43:44.060856300Z",
     "start_time": "2023-10-08T09:43:43.999317100Z"
    }
   }
  },
  {
   "cell_type": "code",
   "execution_count": 6,
   "outputs": [
    {
     "data": {
      "text/plain": "min_founderpres           175817\nmax_founderpres           175817\nrko_start_months               0\nsum_c_oper_3m                  0\ncnt_days_deb_e_oper_3m         0\n                           ...  \ncnt_deb_d_oper_1m              0\nsum_deb_d_oper_1m              0\ncnt_c_oper_1m                  0\nsum_c_oper_1m                  0\ntotal_target                   0\nLength: 94, dtype: int64"
     },
     "execution_count": 6,
     "metadata": {},
     "output_type": "execute_result"
    }
   ],
   "source": [
    "train_df.isna().sum().sort_values(ascending=False)"
   ],
   "metadata": {
    "collapsed": false,
    "ExecuteTime": {
     "end_time": "2023-10-08T09:43:44.104469700Z",
     "start_time": "2023-10-08T09:43:44.060856300Z"
    }
   }
  },
  {
   "cell_type": "markdown",
   "source": [
    "### Конструирование новых признаков, удаление ненужных признаков"
   ],
   "metadata": {
    "collapsed": false
   }
  },
  {
   "cell_type": "markdown",
   "source": [
    "Если значение min(max)_founderpres - NaN значит человек не регистрировал себе ОГРН, иначе регистрировал."
   ],
   "metadata": {
    "collapsed": false
   }
  },
  {
   "cell_type": "code",
   "execution_count": 7,
   "outputs": [
    {
     "data": {
      "text/plain": "        ogrn_reg  max_founderpres\n0              1        -0.963860\n1              0              NaN\n2              1        -0.271164\n3              0              NaN\n4              0              NaN\n...          ...              ...\n299995         1        -0.754824\n299996         1         0.549400\n299997         0              NaN\n299998         0              NaN\n299999         0              NaN\n\n[300000 rows x 2 columns]",
      "text/html": "<div>\n<style scoped>\n    .dataframe tbody tr th:only-of-type {\n        vertical-align: middle;\n    }\n\n    .dataframe tbody tr th {\n        vertical-align: top;\n    }\n\n    .dataframe thead th {\n        text-align: right;\n    }\n</style>\n<table border=\"1\" class=\"dataframe\">\n  <thead>\n    <tr style=\"text-align: right;\">\n      <th></th>\n      <th>ogrn_reg</th>\n      <th>max_founderpres</th>\n    </tr>\n  </thead>\n  <tbody>\n    <tr>\n      <th>0</th>\n      <td>1</td>\n      <td>-0.963860</td>\n    </tr>\n    <tr>\n      <th>1</th>\n      <td>0</td>\n      <td>NaN</td>\n    </tr>\n    <tr>\n      <th>2</th>\n      <td>1</td>\n      <td>-0.271164</td>\n    </tr>\n    <tr>\n      <th>3</th>\n      <td>0</td>\n      <td>NaN</td>\n    </tr>\n    <tr>\n      <th>4</th>\n      <td>0</td>\n      <td>NaN</td>\n    </tr>\n    <tr>\n      <th>...</th>\n      <td>...</td>\n      <td>...</td>\n    </tr>\n    <tr>\n      <th>299995</th>\n      <td>1</td>\n      <td>-0.754824</td>\n    </tr>\n    <tr>\n      <th>299996</th>\n      <td>1</td>\n      <td>0.549400</td>\n    </tr>\n    <tr>\n      <th>299997</th>\n      <td>0</td>\n      <td>NaN</td>\n    </tr>\n    <tr>\n      <th>299998</th>\n      <td>0</td>\n      <td>NaN</td>\n    </tr>\n    <tr>\n      <th>299999</th>\n      <td>0</td>\n      <td>NaN</td>\n    </tr>\n  </tbody>\n</table>\n<p>300000 rows × 2 columns</p>\n</div>"
     },
     "execution_count": 7,
     "metadata": {},
     "output_type": "execute_result"
    }
   ],
   "source": [
    "train_df[\"ogrn_reg\"] = (train_df[\"max_founderpres\"].isna()*1 - 1) * -1\n",
    "train_df[[\"ogrn_reg\", \"max_founderpres\"]]"
   ],
   "metadata": {
    "collapsed": false,
    "ExecuteTime": {
     "end_time": "2023-10-08T09:43:44.113537400Z",
     "start_time": "2023-10-08T09:43:44.101251100Z"
    }
   }
  },
  {
   "cell_type": "code",
   "execution_count": 8,
   "outputs": [],
   "source": [
    "# удалим старые признаки\n",
    "train_df.drop([\"max_founderpres\", \"min_founderpres\"], axis=1, inplace=True)"
   ],
   "metadata": {
    "collapsed": false,
    "ExecuteTime": {
     "end_time": "2023-10-08T09:43:44.188126Z",
     "start_time": "2023-10-08T09:43:44.113537400Z"
    }
   }
  },
  {
   "cell_type": "markdown",
   "source": [
    "Проделаем тоже самое для тестовых данных"
   ],
   "metadata": {
    "collapsed": false
   }
  },
  {
   "cell_type": "code",
   "execution_count": 9,
   "outputs": [],
   "source": [
    "test_df[\"ogrn_reg\"] = (test_df[\"max_founderpres\"].isna()*1 - 1) * -1\n",
    "test_df.drop([\"max_founderpres\", \"min_founderpres\"], axis=1, inplace=True)\n",
    "\n",
    "train_df[\"ogrn_reg\"] = train_df[\"ogrn_reg\"].astype(\"category\")\n",
    "test_df[\"ogrn_reg\"] = test_df[\"ogrn_reg\"].astype(\"category\")\n",
    "# train_df[cat_indexes] = train_df[cat_indexes].astype(\"category\")\n",
    "# test_df[cat_indexes] = test_df[cat_indexes].astype(\"category\")"
   ],
   "metadata": {
    "collapsed": false,
    "ExecuteTime": {
     "end_time": "2023-10-08T09:43:44.189126600Z",
     "start_time": "2023-10-08T09:43:44.158232800Z"
    }
   }
  },
  {
   "cell_type": "markdown",
   "source": [
    "Проверим, остались ли пропуски после обработки"
   ],
   "metadata": {
    "collapsed": false
   }
  },
  {
   "cell_type": "code",
   "execution_count": 10,
   "outputs": [
    {
     "data": {
      "text/plain": "rko_start_months           0\nbalance_amt_avg            0\nbalance_amt_max            0\nbalance_amt_min            0\nbalance_amt_day_avg        0\n                          ..\ncnt_days_cred_h_oper_3m    0\ntarget_1                   0\ntarget_2                   0\ntotal_target               0\nogrn_reg                   0\nLength: 93, dtype: int64"
     },
     "execution_count": 10,
     "metadata": {},
     "output_type": "execute_result"
    }
   ],
   "source": [
    "train_df.isna().sum()"
   ],
   "metadata": {
    "collapsed": false,
    "ExecuteTime": {
     "end_time": "2023-10-08T09:43:44.243756100Z",
     "start_time": "2023-10-08T09:43:44.187124600Z"
    }
   }
  },
  {
   "cell_type": "code",
   "execution_count": 11,
   "outputs": [
    {
     "data": {
      "text/plain": "id                         0\nrko_start_months           0\nbalance_amt_avg            0\nbalance_amt_max            0\nbalance_amt_min            0\n                          ..\ncnt_days_deb_h_oper_3m     0\nsum_cred_h_oper_3m         0\ncnt_cred_h_oper_3m         0\ncnt_days_cred_h_oper_3m    0\nogrn_reg                   0\nLength: 91, dtype: int64"
     },
     "execution_count": 11,
     "metadata": {},
     "output_type": "execute_result"
    }
   ],
   "source": [
    "test_df.isna().sum()"
   ],
   "metadata": {
    "collapsed": false,
    "ExecuteTime": {
     "end_time": "2023-10-08T09:43:44.257277500Z",
     "start_time": "2023-10-08T09:43:44.228346300Z"
    }
   }
  },
  {
   "cell_type": "markdown",
   "source": [
    "В данных есть признак - index_city_code\tкод города в почтовом индексе. Так как мы закодировали города, можно избавиться от этого признака, он будет создавать лишние зависимости"
   ],
   "metadata": {
    "collapsed": false
   }
  },
  {
   "cell_type": "code",
   "execution_count": 12,
   "outputs": [],
   "source": [
    "train_df.drop(['index_city_code'], axis=1, inplace=True)\n",
    "\n",
    "# повторим для тестовых данных\n",
    "test_df.drop(['index_city_code'], axis=1, inplace=True)"
   ],
   "metadata": {
    "collapsed": false,
    "ExecuteTime": {
     "end_time": "2023-10-08T09:43:44.313887Z",
     "start_time": "2023-10-08T09:43:44.259277700Z"
    }
   }
  },
  {
   "cell_type": "markdown",
   "source": [
    "Заметим, что в наших данных есть такие признаки как sum_a_oper_1m и cnt_a_oper_1m - сумма операций типа А за месяц и их количество. Это распространяется и на другие типы операций. Сконструируем новый признак sum/cnt - средняя сумма операции типа A в месяц. Распространим эту логику на все типы операций."
   ],
   "metadata": {
    "collapsed": false
   }
  },
  {
   "cell_type": "code",
   "execution_count": 13,
   "outputs": [],
   "source": [
    "# для операций типа A, B, C\n",
    "train_df['med_sum_oper_a_1m'] = train_df['sum_a_oper_1m']/train_df['cnt_a_oper_1m']\n",
    "train_df.drop(['sum_a_oper_1m', 'cnt_a_oper_1m'], axis=1, inplace=True)\n",
    "\n",
    "train_df['med_sum_oper_b_1m'] = train_df['sum_b_oper_1m']/train_df['cnt_b_oper_1m']\n",
    "train_df.drop(['sum_b_oper_1m', 'cnt_b_oper_1m'], axis=1, inplace=True)\n",
    "\n",
    "train_df['med_sum_oper_c_1m'] = train_df['sum_c_oper_1m']/train_df['cnt_c_oper_1m']\n",
    "train_df.drop(['sum_c_oper_1m', 'cnt_c_oper_1m'], axis=1, inplace=True)"
   ],
   "metadata": {
    "collapsed": false,
    "ExecuteTime": {
     "end_time": "2023-10-08T09:43:44.442930900Z",
     "start_time": "2023-10-08T09:43:44.316034200Z"
    }
   }
  },
  {
   "cell_type": "code",
   "execution_count": 14,
   "outputs": [],
   "source": [
    "# для исходящих операций типа D, E, F, G, H\n",
    "train_df['med_sum_deb_d_oper_1m'] = train_df['sum_deb_d_oper_1m']/train_df['cnt_deb_d_oper_1m']\n",
    "train_df.drop(['sum_deb_d_oper_1m', 'cnt_deb_d_oper_1m'], axis=1, inplace=True)\n",
    "\n",
    "train_df['med_sum_deb_e_oper_1m'] = train_df['sum_deb_e_oper_1m']/train_df['cnt_deb_e_oper_1m']\n",
    "train_df.drop(['sum_deb_e_oper_1m', 'cnt_deb_e_oper_1m'], axis=1, inplace=True)\n",
    "\n",
    "train_df['med_sum_deb_f_oper_1m'] = train_df['sum_deb_f_oper_1m']/train_df['cnt_deb_f_oper_1m']\n",
    "train_df.drop(['sum_deb_f_oper_1m', 'cnt_deb_f_oper_1m'], axis=1, inplace=True)\n",
    "\n",
    "train_df['med_sum_deb_g_oper_1m'] = train_df['sum_deb_g_oper_1m']/train_df['cnt_deb_g_oper_1m']\n",
    "train_df.drop(['sum_deb_g_oper_1m', 'cnt_deb_g_oper_1m'], axis=1, inplace=True)\n",
    "\n",
    "train_df['med_sum_deb_h_oper_1m'] = train_df['sum_deb_h_oper_1m']/train_df['cnt_deb_h_oper_1m']\n",
    "train_df.drop(['sum_deb_h_oper_1m', 'cnt_deb_h_oper_1m'], axis=1, inplace=True)\n",
    "\n",
    "# для входящих операций типа D, E, F, G, H\n",
    "train_df['med_sum_cred_d_oper_1m'] = train_df['sum_cred_d_oper_1m']/train_df['cnt_cred_d_oper_1m']\n",
    "train_df.drop(['sum_cred_d_oper_1m', 'cnt_cred_d_oper_1m'], axis=1, inplace=True)\n",
    "\n",
    "train_df['med_sum_cred_e_oper_1m'] = train_df['sum_cred_e_oper_1m']/train_df['cnt_cred_e_oper_1m']\n",
    "train_df.drop(['sum_cred_e_oper_1m', 'cnt_cred_e_oper_1m'], axis=1, inplace=True)\n",
    "\n",
    "train_df['med_sum_cred_f_oper_1m'] = train_df['sum_cred_f_oper_1m']/train_df['cnt_cred_f_oper_1m']\n",
    "train_df.drop(['sum_cred_f_oper_1m', 'cnt_cred_f_oper_1m'], axis=1, inplace=True)\n",
    "\n",
    "train_df['med_sum_cred_g_oper_1m'] = train_df['sum_cred_g_oper_1m']/train_df['cnt_cred_g_oper_1m']\n",
    "train_df.drop(['sum_cred_g_oper_1m', 'cnt_cred_g_oper_1m'], axis=1, inplace=True)\n",
    "\n",
    "train_df['med_sum_cred_h_oper_1m'] = train_df['sum_cred_h_oper_1m']/train_df['cnt_cred_h_oper_1m']\n",
    "train_df.drop(['sum_cred_h_oper_1m', 'cnt_cred_h_oper_1m'], axis=1, inplace=True)"
   ],
   "metadata": {
    "collapsed": false,
    "ExecuteTime": {
     "end_time": "2023-10-08T09:43:44.965092800Z",
     "start_time": "2023-10-08T09:43:44.442930900Z"
    }
   }
  },
  {
   "cell_type": "markdown",
   "source": [
    "Аналогично заменим признаки суммы и количества операций разного типа для 3 месяцев"
   ],
   "metadata": {
    "collapsed": false
   }
  },
  {
   "cell_type": "code",
   "execution_count": 15,
   "outputs": [],
   "source": [
    "# для операций типа A, B, C\n",
    "train_df['med_sum_oper_a_3m'] = train_df['sum_a_oper_3m']/train_df['cnt_a_oper_3m']\n",
    "train_df.drop(['sum_a_oper_3m', 'cnt_a_oper_3m'], axis=1, inplace=True)\n",
    "\n",
    "train_df['med_sum_oper_b_3m'] = train_df['sum_b_oper_3m']/train_df['cnt_b_oper_3m']\n",
    "train_df.drop(['sum_b_oper_3m', 'cnt_b_oper_3m'], axis=1, inplace=True)\n",
    "\n",
    "train_df['med_sum_oper_c_3m'] = train_df['sum_c_oper_3m']/train_df['cnt_c_oper_3m']\n",
    "train_df.drop(['sum_c_oper_3m', 'cnt_c_oper_3m'], axis=1, inplace=True)\n",
    "\n",
    "# для исходящих операций типа D, E, F, G, H\n",
    "train_df['med_sum_deb_d_oper_3m'] = train_df['sum_deb_d_oper_3m']/train_df['cnt_deb_d_oper_3m']\n",
    "train_df.drop(['sum_deb_d_oper_3m', 'cnt_deb_d_oper_3m'], axis=1, inplace=True)\n",
    "\n",
    "train_df['med_sum_deb_e_oper_3m'] = train_df['sum_deb_e_oper_3m']/train_df['cnt_deb_e_oper_3m']\n",
    "train_df.drop(['sum_deb_e_oper_3m', 'cnt_deb_e_oper_3m'], axis=1, inplace=True)\n",
    "\n",
    "train_df['med_sum_deb_f_oper_3m'] = train_df['sum_deb_f_oper_3m']/train_df['cnt_deb_f_oper_3m']\n",
    "train_df.drop(['sum_deb_f_oper_3m', 'cnt_deb_f_oper_3m'], axis=1, inplace=True)\n",
    "\n",
    "train_df['med_sum_deb_g_oper_3m'] = train_df['sum_deb_g_oper_3m']/train_df['cnt_deb_g_oper_3m']\n",
    "train_df.drop(['sum_deb_g_oper_3m', 'cnt_deb_g_oper_3m'], axis=1, inplace=True)\n",
    "\n",
    "train_df['med_sum_deb_h_oper_3m'] = train_df['sum_deb_h_oper_3m']/train_df['cnt_deb_h_oper_3m']\n",
    "train_df.drop(['sum_deb_h_oper_3m', 'cnt_deb_h_oper_3m'], axis=1, inplace=True)\n",
    "\n",
    "# для входящих операций типа D, E, F, G, H\n",
    "train_df['med_sum_cred_d_oper_3m'] = train_df['sum_cred_d_oper_3m']/train_df['cnt_cred_d_oper_3m']\n",
    "train_df.drop(['sum_cred_d_oper_3m', 'cnt_cred_d_oper_3m'], axis=1, inplace=True)\n",
    "\n",
    "train_df['med_sum_cred_e_oper_3m'] = train_df['sum_cred_e_oper_3m']/train_df['cnt_cred_e_oper_3m']\n",
    "train_df.drop(['sum_cred_e_oper_3m', 'cnt_cred_e_oper_3m'], axis=1, inplace=True)\n",
    "\n",
    "train_df['med_sum_cred_f_oper_3m'] = train_df['sum_cred_f_oper_3m']/train_df['cnt_cred_f_oper_3m']\n",
    "train_df.drop(['sum_cred_f_oper_3m', 'cnt_cred_f_oper_3m'], axis=1, inplace=True)\n",
    "\n",
    "train_df['med_sum_cred_g_oper_3m'] = train_df['sum_cred_g_oper_3m']/train_df['cnt_cred_g_oper_3m']\n",
    "train_df.drop(['sum_cred_g_oper_3m', 'cnt_cred_g_oper_3m'], axis=1, inplace=True)\n",
    "\n",
    "train_df['med_sum_cred_h_oper_3m'] = train_df['sum_cred_h_oper_3m']/train_df['cnt_cred_h_oper_3m']\n",
    "train_df.drop(['sum_cred_h_oper_3m', 'cnt_cred_h_oper_3m'], axis=1, inplace=True)"
   ],
   "metadata": {
    "collapsed": false,
    "ExecuteTime": {
     "end_time": "2023-10-08T09:43:45.591074800Z",
     "start_time": "2023-10-08T09:43:44.959980900Z"
    }
   }
  },
  {
   "cell_type": "code",
   "execution_count": 16,
   "outputs": [],
   "source": [
    "# повторим для тестовых данных\n",
    "\n",
    "# для операций типа A, B, C за 1 месяц\n",
    "test_df['med_sum_oper_a_1m'] = test_df['sum_a_oper_1m']/test_df['cnt_a_oper_1m']\n",
    "test_df.drop(['sum_a_oper_1m', 'cnt_a_oper_1m'], axis=1, inplace=True)\n",
    "\n",
    "test_df['med_sum_oper_b_1m'] = test_df['sum_b_oper_1m']/test_df['cnt_b_oper_1m']\n",
    "test_df.drop(['sum_b_oper_1m', 'cnt_b_oper_1m'], axis=1, inplace=True)\n",
    "\n",
    "test_df['med_sum_oper_c_1m'] = test_df['sum_c_oper_1m']/test_df['cnt_c_oper_1m']\n",
    "test_df.drop(['sum_c_oper_1m', 'cnt_c_oper_1m'], axis=1, inplace=True)\n",
    "\n",
    "# для исходящих операций типа D, E, F, G, H за 1 месяц\n",
    "test_df['med_sum_deb_d_oper_1m'] = test_df['sum_deb_d_oper_1m']/test_df['cnt_deb_d_oper_1m']\n",
    "test_df.drop(['sum_deb_d_oper_1m', 'cnt_deb_d_oper_1m'], axis=1, inplace=True)\n",
    "\n",
    "test_df['med_sum_deb_e_oper_1m'] = test_df['sum_deb_e_oper_1m']/test_df['cnt_deb_e_oper_1m']\n",
    "test_df.drop(['sum_deb_e_oper_1m', 'cnt_deb_e_oper_1m'], axis=1, inplace=True)\n",
    "\n",
    "test_df['med_sum_deb_f_oper_1m'] = test_df['sum_deb_f_oper_1m']/test_df['cnt_deb_f_oper_1m']\n",
    "test_df.drop(['sum_deb_f_oper_1m', 'cnt_deb_f_oper_1m'], axis=1, inplace=True)\n",
    "\n",
    "test_df['med_sum_deb_g_oper_1m'] = test_df['sum_deb_g_oper_1m']/test_df['cnt_deb_g_oper_1m']\n",
    "test_df.drop(['sum_deb_g_oper_1m', 'cnt_deb_g_oper_1m'], axis=1, inplace=True)\n",
    "\n",
    "test_df['med_sum_deb_h_oper_1m'] = test_df['sum_deb_h_oper_1m']/test_df['cnt_deb_h_oper_1m']\n",
    "test_df.drop(['sum_deb_h_oper_1m', 'cnt_deb_h_oper_1m'], axis=1, inplace=True)\n",
    "\n",
    "# для входящих операций типа D, E, F, G, H за 1 месяц\n",
    "test_df['med_sum_cred_d_oper_1m'] = test_df['sum_cred_d_oper_1m']/test_df['cnt_cred_d_oper_1m']\n",
    "test_df.drop(['sum_cred_d_oper_1m', 'cnt_cred_d_oper_1m'], axis=1, inplace=True)\n",
    "\n",
    "test_df['med_sum_cred_e_oper_1m'] = test_df['sum_cred_e_oper_1m']/test_df['cnt_cred_e_oper_1m']\n",
    "test_df.drop(['sum_cred_e_oper_1m', 'cnt_cred_e_oper_1m'], axis=1, inplace=True)\n",
    "\n",
    "test_df['med_sum_cred_f_oper_1m'] = test_df['sum_cred_f_oper_1m']/test_df['cnt_cred_f_oper_1m']\n",
    "test_df.drop(['sum_cred_f_oper_1m', 'cnt_cred_f_oper_1m'], axis=1, inplace=True)\n",
    "\n",
    "test_df['med_sum_cred_g_oper_1m'] = test_df['sum_cred_g_oper_1m']/test_df['cnt_cred_g_oper_1m']\n",
    "test_df.drop(['sum_cred_g_oper_1m', 'cnt_cred_g_oper_1m'], axis=1, inplace=True)\n",
    "\n",
    "test_df['med_sum_cred_h_oper_1m'] = test_df['sum_cred_h_oper_1m']/test_df['cnt_cred_h_oper_1m']\n",
    "test_df.drop(['sum_cred_h_oper_1m', 'cnt_cred_h_oper_1m'], axis=1, inplace=True)\n",
    "\n",
    "# для операций типа A, B, C за 3 месяца\n",
    "test_df['med_sum_oper_a_3m'] = test_df['sum_a_oper_3m']/test_df['cnt_a_oper_3m']\n",
    "test_df.drop(['sum_a_oper_3m', 'cnt_a_oper_3m'], axis=1, inplace=True)\n",
    "\n",
    "test_df['med_sum_oper_b_3m'] = test_df['sum_b_oper_3m']/test_df['cnt_b_oper_3m']\n",
    "test_df.drop(['sum_b_oper_3m', 'cnt_b_oper_3m'], axis=1, inplace=True)\n",
    "\n",
    "test_df['med_sum_oper_c_3m'] = test_df['sum_c_oper_3m']/test_df['cnt_c_oper_3m']\n",
    "test_df.drop(['sum_c_oper_3m', 'cnt_c_oper_3m'], axis=1, inplace=True)\n",
    "\n",
    "# для исходящих операций типа D, E, F, G, H за 3 месяца\n",
    "test_df['med_sum_deb_d_oper_3m'] = test_df['sum_deb_d_oper_3m']/test_df['cnt_deb_d_oper_3m']\n",
    "test_df.drop(['sum_deb_d_oper_3m', 'cnt_deb_d_oper_3m'], axis=1, inplace=True)\n",
    "\n",
    "test_df['med_sum_deb_e_oper_3m'] = test_df['sum_deb_e_oper_3m']/test_df['cnt_deb_e_oper_3m']\n",
    "test_df.drop(['sum_deb_e_oper_3m', 'cnt_deb_e_oper_3m'], axis=1, inplace=True)\n",
    "\n",
    "test_df['med_sum_deb_f_oper_3m'] = test_df['sum_deb_f_oper_3m']/test_df['cnt_deb_f_oper_3m']\n",
    "test_df.drop(['sum_deb_f_oper_3m', 'cnt_deb_f_oper_3m'], axis=1, inplace=True)\n",
    "\n",
    "test_df['med_sum_deb_g_oper_3m'] = test_df['sum_deb_g_oper_3m']/test_df['cnt_deb_g_oper_3m']\n",
    "test_df.drop(['sum_deb_g_oper_3m', 'cnt_deb_g_oper_3m'], axis=1, inplace=True)\n",
    "\n",
    "test_df['med_sum_deb_h_oper_3m'] = test_df['sum_deb_h_oper_3m']/test_df['cnt_deb_h_oper_3m']\n",
    "test_df.drop(['sum_deb_h_oper_3m', 'cnt_deb_h_oper_3m'], axis=1, inplace=True)\n",
    "\n",
    "# для входящих операций типа D, E, F, G, H за 3 месяца\n",
    "test_df['med_sum_cred_d_oper_3m'] = test_df['sum_cred_d_oper_3m']/test_df['cnt_cred_d_oper_3m']\n",
    "test_df.drop(['sum_cred_d_oper_3m', 'cnt_cred_d_oper_3m'], axis=1, inplace=True)\n",
    "\n",
    "test_df['med_sum_cred_e_oper_3m'] = test_df['sum_cred_e_oper_3m']/test_df['cnt_cred_e_oper_3m']\n",
    "test_df.drop(['sum_cred_e_oper_3m', 'cnt_cred_e_oper_3m'], axis=1, inplace=True)\n",
    "\n",
    "test_df['med_sum_cred_f_oper_3m'] = test_df['sum_cred_f_oper_3m']/test_df['cnt_cred_f_oper_3m']\n",
    "test_df.drop(['sum_cred_f_oper_3m', 'cnt_cred_f_oper_3m'], axis=1, inplace=True)\n",
    "\n",
    "test_df['med_sum_cred_g_oper_3m'] = test_df['sum_cred_g_oper_3m']/test_df['cnt_cred_g_oper_3m']\n",
    "test_df.drop(['sum_cred_g_oper_3m', 'cnt_cred_g_oper_3m'], axis=1, inplace=True)\n",
    "\n",
    "test_df['med_sum_cred_h_oper_3m'] = test_df['sum_cred_h_oper_3m']/test_df['cnt_cred_h_oper_3m']\n",
    "test_df.drop(['sum_cred_h_oper_3m', 'cnt_cred_h_oper_3m'], axis=1, inplace=True)"
   ],
   "metadata": {
    "collapsed": false,
    "ExecuteTime": {
     "end_time": "2023-10-08T09:43:46.102008100Z",
     "start_time": "2023-10-08T09:43:45.598668100Z"
    }
   }
  },
  {
   "cell_type": "code",
   "execution_count": 17,
   "outputs": [
    {
     "data": {
      "text/plain": "        rko_start_months  balance_amt_avg  balance_amt_max  balance_amt_min  \\\n0              -1.279132         0.495465        -0.150694        -0.061040   \n1              -1.142591         0.441660        -0.151974         0.444538   \n2               1.812270         0.721481         0.690313         0.712110   \n3              -0.479407        -0.825400        -0.164479        -0.081552   \n4              -1.503690        -0.220356        -0.140007         0.054151   \n...                  ...              ...              ...              ...   \n299995          0.140494         0.318171         0.382156         0.137893   \n299996         -0.578334        -0.257132        -0.163073        -0.306348   \n299997          2.052711         0.275272        -0.023917         0.577519   \n299998          1.051685         0.407648        -0.173676        -0.059733   \n299999         -0.642357        -0.040090        -0.169951        -0.395053   \n\n        balance_amt_day_avg  channel_code  city  city_type  \\\n0                  0.244948            48  5326       1183   \n1                 -0.336615            22  2961       2359   \n2                  0.687942            34  3915       2359   \n3                 -0.345380            19   700       2359   \n4                 -0.012974            24  8361       6967   \n...                     ...           ...   ...        ...   \n299995            -0.316382            28  2485       2359   \n299996            -0.214342             2  3915       1183   \n299997             0.125595            31  2959       2359   \n299998            -0.090080             3  8361       6967   \n299999            -0.136198            26  5876       2359   \n\n        ogrn_days_end_month  ogrn_days_end_quarter  ...  \\\n0                  1.753402               0.550625  ...   \n1                 -1.071369               0.843839  ...   \n2                  1.447976               2.002672  ...   \n3                  1.332294              -0.963345  ...   \n4                 -0.642853               0.022619  ...   \n...                     ...                    ...  ...   \n299995             0.773977               1.795861  ...   \n299996             0.198610              -0.024177  ...   \n299997            -0.704130               0.800814  ...   \n299998            -2.261586              -1.722783  ...   \n299999             1.089889               1.153221  ...   \n\n        med_sum_deb_d_oper_3m  med_sum_deb_e_oper_3m  med_sum_deb_f_oper_3m  \\\n0                    0.065452            -255.387947              12.897217   \n1                   -2.168564               1.200330              13.126278   \n2                    0.256910               0.774882             -80.298884   \n3                    0.739663               6.008479             -29.573350   \n4                    1.452089               1.288316              61.094330   \n...                       ...                    ...                    ...   \n299995              -1.005183              -9.249194              15.061497   \n299996              -5.185729               1.220348              34.555742   \n299997               1.205421               1.328119              42.846891   \n299998               0.474300               1.225669               6.040878   \n299999              -0.688684               1.985238               8.426613   \n\n        med_sum_deb_g_oper_3m  med_sum_deb_h_oper_3m  med_sum_cred_d_oper_3m  \\\n0                    0.156202              -0.386839               -1.604417   \n1                    0.344059               2.055247                3.260475   \n2                    0.025276               0.248954                1.075340   \n3                   -0.081641               0.016206               -0.552698   \n4                    0.097205              -0.636012                5.332313   \n...                       ...                    ...                     ...   \n299995               0.071025               0.798564               16.384038   \n299996              -0.676129               0.835704                1.254373   \n299997              -0.209990              -0.440225                2.677860   \n299998               0.074270               0.386840                6.625697   \n299999              -0.745641               0.946385                3.869925   \n\n        med_sum_cred_e_oper_3m  med_sum_cred_f_oper_3m  \\\n0                    -0.338697               -0.021993   \n1                    -0.445983                1.395084   \n2                     1.831351                0.930990   \n3                     0.442019              -37.069433   \n4                    -2.591283               -1.039817   \n...                        ...                     ...   \n299995                0.394577                1.734725   \n299996               -0.832397               12.602770   \n299997               -0.869626               -2.805415   \n299998               57.543857               -6.128404   \n299999               -0.257038               -1.216853   \n\n        med_sum_cred_g_oper_3m  med_sum_cred_h_oper_3m  \n0                    -2.602547                0.798480  \n1                    -1.225504                0.864284  \n2                    -0.069210                1.672070  \n3                     3.058324                1.938084  \n4                    -2.952693               26.194145  \n...                        ...                     ...  \n299995                1.441702               -2.968832  \n299996               -3.118926               -0.238715  \n299997               -0.260362                2.118927  \n299998                5.510060               -1.990614  \n299999               -1.422666               -2.878278  \n\n[300000 rows x 66 columns]",
      "text/html": "<div>\n<style scoped>\n    .dataframe tbody tr th:only-of-type {\n        vertical-align: middle;\n    }\n\n    .dataframe tbody tr th {\n        vertical-align: top;\n    }\n\n    .dataframe thead th {\n        text-align: right;\n    }\n</style>\n<table border=\"1\" class=\"dataframe\">\n  <thead>\n    <tr style=\"text-align: right;\">\n      <th></th>\n      <th>rko_start_months</th>\n      <th>balance_amt_avg</th>\n      <th>balance_amt_max</th>\n      <th>balance_amt_min</th>\n      <th>balance_amt_day_avg</th>\n      <th>channel_code</th>\n      <th>city</th>\n      <th>city_type</th>\n      <th>ogrn_days_end_month</th>\n      <th>ogrn_days_end_quarter</th>\n      <th>...</th>\n      <th>med_sum_deb_d_oper_3m</th>\n      <th>med_sum_deb_e_oper_3m</th>\n      <th>med_sum_deb_f_oper_3m</th>\n      <th>med_sum_deb_g_oper_3m</th>\n      <th>med_sum_deb_h_oper_3m</th>\n      <th>med_sum_cred_d_oper_3m</th>\n      <th>med_sum_cred_e_oper_3m</th>\n      <th>med_sum_cred_f_oper_3m</th>\n      <th>med_sum_cred_g_oper_3m</th>\n      <th>med_sum_cred_h_oper_3m</th>\n    </tr>\n  </thead>\n  <tbody>\n    <tr>\n      <th>0</th>\n      <td>-1.279132</td>\n      <td>0.495465</td>\n      <td>-0.150694</td>\n      <td>-0.061040</td>\n      <td>0.244948</td>\n      <td>48</td>\n      <td>5326</td>\n      <td>1183</td>\n      <td>1.753402</td>\n      <td>0.550625</td>\n      <td>...</td>\n      <td>0.065452</td>\n      <td>-255.387947</td>\n      <td>12.897217</td>\n      <td>0.156202</td>\n      <td>-0.386839</td>\n      <td>-1.604417</td>\n      <td>-0.338697</td>\n      <td>-0.021993</td>\n      <td>-2.602547</td>\n      <td>0.798480</td>\n    </tr>\n    <tr>\n      <th>1</th>\n      <td>-1.142591</td>\n      <td>0.441660</td>\n      <td>-0.151974</td>\n      <td>0.444538</td>\n      <td>-0.336615</td>\n      <td>22</td>\n      <td>2961</td>\n      <td>2359</td>\n      <td>-1.071369</td>\n      <td>0.843839</td>\n      <td>...</td>\n      <td>-2.168564</td>\n      <td>1.200330</td>\n      <td>13.126278</td>\n      <td>0.344059</td>\n      <td>2.055247</td>\n      <td>3.260475</td>\n      <td>-0.445983</td>\n      <td>1.395084</td>\n      <td>-1.225504</td>\n      <td>0.864284</td>\n    </tr>\n    <tr>\n      <th>2</th>\n      <td>1.812270</td>\n      <td>0.721481</td>\n      <td>0.690313</td>\n      <td>0.712110</td>\n      <td>0.687942</td>\n      <td>34</td>\n      <td>3915</td>\n      <td>2359</td>\n      <td>1.447976</td>\n      <td>2.002672</td>\n      <td>...</td>\n      <td>0.256910</td>\n      <td>0.774882</td>\n      <td>-80.298884</td>\n      <td>0.025276</td>\n      <td>0.248954</td>\n      <td>1.075340</td>\n      <td>1.831351</td>\n      <td>0.930990</td>\n      <td>-0.069210</td>\n      <td>1.672070</td>\n    </tr>\n    <tr>\n      <th>3</th>\n      <td>-0.479407</td>\n      <td>-0.825400</td>\n      <td>-0.164479</td>\n      <td>-0.081552</td>\n      <td>-0.345380</td>\n      <td>19</td>\n      <td>700</td>\n      <td>2359</td>\n      <td>1.332294</td>\n      <td>-0.963345</td>\n      <td>...</td>\n      <td>0.739663</td>\n      <td>6.008479</td>\n      <td>-29.573350</td>\n      <td>-0.081641</td>\n      <td>0.016206</td>\n      <td>-0.552698</td>\n      <td>0.442019</td>\n      <td>-37.069433</td>\n      <td>3.058324</td>\n      <td>1.938084</td>\n    </tr>\n    <tr>\n      <th>4</th>\n      <td>-1.503690</td>\n      <td>-0.220356</td>\n      <td>-0.140007</td>\n      <td>0.054151</td>\n      <td>-0.012974</td>\n      <td>24</td>\n      <td>8361</td>\n      <td>6967</td>\n      <td>-0.642853</td>\n      <td>0.022619</td>\n      <td>...</td>\n      <td>1.452089</td>\n      <td>1.288316</td>\n      <td>61.094330</td>\n      <td>0.097205</td>\n      <td>-0.636012</td>\n      <td>5.332313</td>\n      <td>-2.591283</td>\n      <td>-1.039817</td>\n      <td>-2.952693</td>\n      <td>26.194145</td>\n    </tr>\n    <tr>\n      <th>...</th>\n      <td>...</td>\n      <td>...</td>\n      <td>...</td>\n      <td>...</td>\n      <td>...</td>\n      <td>...</td>\n      <td>...</td>\n      <td>...</td>\n      <td>...</td>\n      <td>...</td>\n      <td>...</td>\n      <td>...</td>\n      <td>...</td>\n      <td>...</td>\n      <td>...</td>\n      <td>...</td>\n      <td>...</td>\n      <td>...</td>\n      <td>...</td>\n      <td>...</td>\n      <td>...</td>\n    </tr>\n    <tr>\n      <th>299995</th>\n      <td>0.140494</td>\n      <td>0.318171</td>\n      <td>0.382156</td>\n      <td>0.137893</td>\n      <td>-0.316382</td>\n      <td>28</td>\n      <td>2485</td>\n      <td>2359</td>\n      <td>0.773977</td>\n      <td>1.795861</td>\n      <td>...</td>\n      <td>-1.005183</td>\n      <td>-9.249194</td>\n      <td>15.061497</td>\n      <td>0.071025</td>\n      <td>0.798564</td>\n      <td>16.384038</td>\n      <td>0.394577</td>\n      <td>1.734725</td>\n      <td>1.441702</td>\n      <td>-2.968832</td>\n    </tr>\n    <tr>\n      <th>299996</th>\n      <td>-0.578334</td>\n      <td>-0.257132</td>\n      <td>-0.163073</td>\n      <td>-0.306348</td>\n      <td>-0.214342</td>\n      <td>2</td>\n      <td>3915</td>\n      <td>1183</td>\n      <td>0.198610</td>\n      <td>-0.024177</td>\n      <td>...</td>\n      <td>-5.185729</td>\n      <td>1.220348</td>\n      <td>34.555742</td>\n      <td>-0.676129</td>\n      <td>0.835704</td>\n      <td>1.254373</td>\n      <td>-0.832397</td>\n      <td>12.602770</td>\n      <td>-3.118926</td>\n      <td>-0.238715</td>\n    </tr>\n    <tr>\n      <th>299997</th>\n      <td>2.052711</td>\n      <td>0.275272</td>\n      <td>-0.023917</td>\n      <td>0.577519</td>\n      <td>0.125595</td>\n      <td>31</td>\n      <td>2959</td>\n      <td>2359</td>\n      <td>-0.704130</td>\n      <td>0.800814</td>\n      <td>...</td>\n      <td>1.205421</td>\n      <td>1.328119</td>\n      <td>42.846891</td>\n      <td>-0.209990</td>\n      <td>-0.440225</td>\n      <td>2.677860</td>\n      <td>-0.869626</td>\n      <td>-2.805415</td>\n      <td>-0.260362</td>\n      <td>2.118927</td>\n    </tr>\n    <tr>\n      <th>299998</th>\n      <td>1.051685</td>\n      <td>0.407648</td>\n      <td>-0.173676</td>\n      <td>-0.059733</td>\n      <td>-0.090080</td>\n      <td>3</td>\n      <td>8361</td>\n      <td>6967</td>\n      <td>-2.261586</td>\n      <td>-1.722783</td>\n      <td>...</td>\n      <td>0.474300</td>\n      <td>1.225669</td>\n      <td>6.040878</td>\n      <td>0.074270</td>\n      <td>0.386840</td>\n      <td>6.625697</td>\n      <td>57.543857</td>\n      <td>-6.128404</td>\n      <td>5.510060</td>\n      <td>-1.990614</td>\n    </tr>\n    <tr>\n      <th>299999</th>\n      <td>-0.642357</td>\n      <td>-0.040090</td>\n      <td>-0.169951</td>\n      <td>-0.395053</td>\n      <td>-0.136198</td>\n      <td>26</td>\n      <td>5876</td>\n      <td>2359</td>\n      <td>1.089889</td>\n      <td>1.153221</td>\n      <td>...</td>\n      <td>-0.688684</td>\n      <td>1.985238</td>\n      <td>8.426613</td>\n      <td>-0.745641</td>\n      <td>0.946385</td>\n      <td>3.869925</td>\n      <td>-0.257038</td>\n      <td>-1.216853</td>\n      <td>-1.422666</td>\n      <td>-2.878278</td>\n    </tr>\n  </tbody>\n</table>\n<p>300000 rows × 66 columns</p>\n</div>"
     },
     "execution_count": 17,
     "metadata": {},
     "output_type": "execute_result"
    }
   ],
   "source": [
    "train_df"
   ],
   "metadata": {
    "collapsed": false,
    "ExecuteTime": {
     "end_time": "2023-10-08T09:43:46.170101300Z",
     "start_time": "2023-10-08T09:43:46.103002300Z"
    }
   }
  },
  {
   "cell_type": "code",
   "execution_count": 18,
   "outputs": [
    {
     "data": {
      "text/plain": "(300000, 66)"
     },
     "execution_count": 18,
     "metadata": {},
     "output_type": "execute_result"
    }
   ],
   "source": [
    "train_df.shape"
   ],
   "metadata": {
    "collapsed": false,
    "ExecuteTime": {
     "end_time": "2023-10-08T09:43:46.172103800Z",
     "start_time": "2023-10-08T09:43:46.168913200Z"
    }
   }
  },
  {
   "cell_type": "markdown",
   "source": [
    "Обработаем выбросы с помощью изолированного дерева"
   ],
   "metadata": {
    "collapsed": false
   }
  },
  {
   "cell_type": "code",
   "execution_count": 19,
   "outputs": [
    {
     "name": "stdout",
     "output_type": "stream",
     "text": [
      "(240000, 66)\n"
     ]
    }
   ],
   "source": [
    "from sklearn.ensemble import IsolationForest\n",
    "\n",
    "# Выберем признаки, в которых не будет происходить поиск аномалий (категориальные признаки)\n",
    "cat_cols = [\n",
    "    'channel_code', 'city', 'city_type', 'ogrn_month', 'ogrn_year',\n",
    "    'branch_code', 'okved', 'segment'\n",
    "]\n",
    "\n",
    "# Отфильтруем категориальные признаки из всех признаков\n",
    "no_anomaly_features = [col for col in train_df.columns if col not in cat_cols]\n",
    "\n",
    "\n",
    "df_to_filter = train_df[no_anomaly_features]\n",
    "iso_clf = IsolationForest(random_state=0, contamination=0.2, bootstrap=True).fit(df_to_filter)\n",
    "anomaly = iso_clf.predict(df_to_filter)\n",
    "\n",
    "# Отфильтруем только те строки, которые не являются аномалиями\n",
    "train_df_filtered = train_df[anomaly == 1]\n",
    "\n",
    "# Присоединим отфильтрованные числовые данные к категориальным данным\n",
    "train_df_filtered_with_categorical = train_df_filtered[cat_cols].join(train_df_filtered[no_anomaly_features])\n",
    "\n",
    "print(train_df_filtered_with_categorical.shape)\n",
    "\n",
    "train_df = train_df_filtered_with_categorical"
   ],
   "metadata": {
    "collapsed": false,
    "ExecuteTime": {
     "end_time": "2023-10-08T09:43:49.271514200Z",
     "start_time": "2023-10-08T09:43:46.173104600Z"
    }
   }
  },
  {
   "cell_type": "markdown",
   "source": [
    "Теперь отберем признаки\n",
    "Для начала выделим в отдельные переменные столбцы target_1, target_2 и target"
   ],
   "metadata": {
    "collapsed": false
   }
  },
  {
   "cell_type": "code",
   "execution_count": 20,
   "outputs": [
    {
     "data": {
      "text/plain": "(240000, 63)"
     },
     "execution_count": 20,
     "metadata": {},
     "output_type": "execute_result"
    }
   ],
   "source": [
    "target_1 = train_df['target_1']\n",
    "target_2 = train_df['target_2']\n",
    "target = train_df['total_target']\n",
    "\n",
    "train_df.drop(['target_1', 'target_2', 'total_target'], axis=1, inplace=True)\n",
    "train_df.shape"
   ],
   "metadata": {
    "collapsed": false,
    "ExecuteTime": {
     "end_time": "2023-10-08T09:43:49.338523300Z",
     "start_time": "2023-10-08T09:43:49.290944100Z"
    }
   }
  },
  {
   "cell_type": "markdown",
   "source": [
    "Теперь определим меру взаимной информации для признаков, чтобы понять какие из признаков действительно оказывают влияние на модель"
   ],
   "metadata": {
    "collapsed": false
   }
  },
  {
   "cell_type": "code",
   "execution_count": 21,
   "outputs": [
    {
     "name": "stdout",
     "output_type": "stream",
     "text": [
      "Наиболее влиятельные признаки для target_1\n"
     ]
    },
    {
     "data": {
      "text/plain": "med_sum_oper_b_3m         0.068995\nbalance_amt_max           0.052475\nmed_sum_cred_e_oper_1m    0.047414\nmed_sum_deb_e_oper_1m     0.046236\nmed_sum_deb_e_oper_3m     0.044955\n                            ...   \nmed_sum_cred_d_oper_3m    0.000131\nmed_sum_cred_g_oper_1m    0.000063\nogrn_days_end_month       0.000053\nmed_sum_oper_a_3m         0.000000\nmed_sum_deb_d_oper_1m     0.000000\nName: MI Scores, Length: 63, dtype: float64"
     },
     "execution_count": 21,
     "metadata": {},
     "output_type": "execute_result"
    }
   ],
   "source": [
    "from sklearn.feature_selection import mutual_info_classif\n",
    "\n",
    "names = [column for column in train_df]\n",
    "X = train_df[names[:]]\n",
    "\n",
    "# для target_1\n",
    "y1 = target_1.to_numpy().ravel()\n",
    "\n",
    "mi_1 = mutual_info_classif(X, y1)\n",
    "\n",
    "mi_sc_1 = pd.Series(mi_1, name=\"MI Scores\", index=X.columns)\n",
    "mi_sc_1 = mi_sc_1.sort_values(ascending=False)\n",
    "\n",
    "# head используем, чтобы получить самые влиятельные, tail - наименее влиятельные\n",
    "print('Наиболее влиятельные признаки для target_1')\n",
    "mi_sc_1"
   ],
   "metadata": {
    "collapsed": false,
    "ExecuteTime": {
     "end_time": "2023-10-08T09:44:58.023173300Z",
     "start_time": "2023-10-08T09:43:49.312041800Z"
    }
   }
  },
  {
   "cell_type": "markdown",
   "source": [
    "Построим графики зависимостей между 10 самыми влиятельными признаками"
   ],
   "metadata": {
    "collapsed": false
   }
  },
  {
   "cell_type": "code",
   "execution_count": 22,
   "outputs": [
    {
     "name": "stdout",
     "output_type": "stream",
     "text": [
      "Index(['med_sum_oper_b_3m', 'balance_amt_max', 'med_sum_cred_e_oper_1m',\n",
      "       'med_sum_deb_e_oper_1m', 'med_sum_deb_e_oper_3m',\n",
      "       'cnt_days_deb_e_oper_1m', 'sum_of_paym_2m', 'cnt_days_deb_g_oper_1m'],\n",
      "      dtype='object')\n"
     ]
    },
    {
     "data": {
      "text/plain": "        med_sum_oper_b_3m  balance_amt_max  med_sum_cred_e_oper_1m  \\\n0                0.420363        -0.150694                4.115135   \n1                0.420363        -0.151974                3.408267   \n2                0.420363         0.690313                1.383957   \n3                0.420363        -0.164479                6.656044   \n4                0.420363        -0.140007                3.388601   \n...                   ...              ...                     ...   \n299993           0.420363        -0.159365                5.599513   \n299995           0.420363         0.382156              -25.965854   \n299996           0.420363        -0.163073                3.438642   \n299997           0.420363        -0.023917                3.857113   \n299999           0.420363        -0.169951                4.095829   \n\n        med_sum_deb_e_oper_1m  med_sum_deb_e_oper_3m  cnt_days_deb_e_oper_1m  \\\n0                  -18.263040            -255.387947                0.186476   \n1                    1.172331               1.200330               -0.636622   \n2                    0.469125               0.774882                1.009573   \n3                    2.333875               6.008479                1.244744   \n4                    1.175840               1.288316               -0.283866   \n...                       ...                    ...                     ...   \n299993              -2.583007              -0.178306                0.656817   \n299995              15.224299              -9.249194                0.186476   \n299996               1.139163               1.220348               -0.989378   \n299997               1.285557               1.328119               -0.401451   \n299999               1.836124               1.985238                0.186476   \n\n        sum_of_paym_2m  cnt_days_deb_g_oper_1m  \n0            -0.059114               -0.373146  \n1            -0.207174               -0.517649  \n2             0.337058                0.493873  \n3            -0.172368                1.649899  \n4            -0.145244               -0.517649  \n...                ...                     ...  \n299993       -0.199351                0.638376  \n299995        0.700364               -0.228643  \n299996       -0.229285               -0.517649  \n299997       -0.220733               -0.084140  \n299999       -0.180616                0.349370  \n\n[240000 rows x 8 columns]",
      "text/html": "<div>\n<style scoped>\n    .dataframe tbody tr th:only-of-type {\n        vertical-align: middle;\n    }\n\n    .dataframe tbody tr th {\n        vertical-align: top;\n    }\n\n    .dataframe thead th {\n        text-align: right;\n    }\n</style>\n<table border=\"1\" class=\"dataframe\">\n  <thead>\n    <tr style=\"text-align: right;\">\n      <th></th>\n      <th>med_sum_oper_b_3m</th>\n      <th>balance_amt_max</th>\n      <th>med_sum_cred_e_oper_1m</th>\n      <th>med_sum_deb_e_oper_1m</th>\n      <th>med_sum_deb_e_oper_3m</th>\n      <th>cnt_days_deb_e_oper_1m</th>\n      <th>sum_of_paym_2m</th>\n      <th>cnt_days_deb_g_oper_1m</th>\n    </tr>\n  </thead>\n  <tbody>\n    <tr>\n      <th>0</th>\n      <td>0.420363</td>\n      <td>-0.150694</td>\n      <td>4.115135</td>\n      <td>-18.263040</td>\n      <td>-255.387947</td>\n      <td>0.186476</td>\n      <td>-0.059114</td>\n      <td>-0.373146</td>\n    </tr>\n    <tr>\n      <th>1</th>\n      <td>0.420363</td>\n      <td>-0.151974</td>\n      <td>3.408267</td>\n      <td>1.172331</td>\n      <td>1.200330</td>\n      <td>-0.636622</td>\n      <td>-0.207174</td>\n      <td>-0.517649</td>\n    </tr>\n    <tr>\n      <th>2</th>\n      <td>0.420363</td>\n      <td>0.690313</td>\n      <td>1.383957</td>\n      <td>0.469125</td>\n      <td>0.774882</td>\n      <td>1.009573</td>\n      <td>0.337058</td>\n      <td>0.493873</td>\n    </tr>\n    <tr>\n      <th>3</th>\n      <td>0.420363</td>\n      <td>-0.164479</td>\n      <td>6.656044</td>\n      <td>2.333875</td>\n      <td>6.008479</td>\n      <td>1.244744</td>\n      <td>-0.172368</td>\n      <td>1.649899</td>\n    </tr>\n    <tr>\n      <th>4</th>\n      <td>0.420363</td>\n      <td>-0.140007</td>\n      <td>3.388601</td>\n      <td>1.175840</td>\n      <td>1.288316</td>\n      <td>-0.283866</td>\n      <td>-0.145244</td>\n      <td>-0.517649</td>\n    </tr>\n    <tr>\n      <th>...</th>\n      <td>...</td>\n      <td>...</td>\n      <td>...</td>\n      <td>...</td>\n      <td>...</td>\n      <td>...</td>\n      <td>...</td>\n      <td>...</td>\n    </tr>\n    <tr>\n      <th>299993</th>\n      <td>0.420363</td>\n      <td>-0.159365</td>\n      <td>5.599513</td>\n      <td>-2.583007</td>\n      <td>-0.178306</td>\n      <td>0.656817</td>\n      <td>-0.199351</td>\n      <td>0.638376</td>\n    </tr>\n    <tr>\n      <th>299995</th>\n      <td>0.420363</td>\n      <td>0.382156</td>\n      <td>-25.965854</td>\n      <td>15.224299</td>\n      <td>-9.249194</td>\n      <td>0.186476</td>\n      <td>0.700364</td>\n      <td>-0.228643</td>\n    </tr>\n    <tr>\n      <th>299996</th>\n      <td>0.420363</td>\n      <td>-0.163073</td>\n      <td>3.438642</td>\n      <td>1.139163</td>\n      <td>1.220348</td>\n      <td>-0.989378</td>\n      <td>-0.229285</td>\n      <td>-0.517649</td>\n    </tr>\n    <tr>\n      <th>299997</th>\n      <td>0.420363</td>\n      <td>-0.023917</td>\n      <td>3.857113</td>\n      <td>1.285557</td>\n      <td>1.328119</td>\n      <td>-0.401451</td>\n      <td>-0.220733</td>\n      <td>-0.084140</td>\n    </tr>\n    <tr>\n      <th>299999</th>\n      <td>0.420363</td>\n      <td>-0.169951</td>\n      <td>4.095829</td>\n      <td>1.836124</td>\n      <td>1.985238</td>\n      <td>0.186476</td>\n      <td>-0.180616</td>\n      <td>0.349370</td>\n    </tr>\n  </tbody>\n</table>\n<p>240000 rows × 8 columns</p>\n</div>"
     },
     "execution_count": 22,
     "metadata": {},
     "output_type": "execute_result"
    }
   ],
   "source": [
    "important_features_1 = mi_sc_1.head(8).index\n",
    "print(important_features_1)\n",
    "train_df[important_features_1]"
   ],
   "metadata": {
    "collapsed": false,
    "ExecuteTime": {
     "end_time": "2023-10-08T09:44:58.040139300Z",
     "start_time": "2023-10-08T09:44:58.023173300Z"
    }
   }
  },
  {
   "cell_type": "code",
   "execution_count": 23,
   "outputs": [],
   "source": [
    "# import matplotlib.pyplot as plt\n",
    "# import seaborn as sns\n",
    "# sns.pairplot(train_df[important_features_1])\n",
    "# \n",
    "# plt.savefig('target_1')"
   ],
   "metadata": {
    "collapsed": false,
    "ExecuteTime": {
     "end_time": "2023-10-08T09:44:58.040139300Z",
     "start_time": "2023-10-08T09:44:58.037617700Z"
    }
   }
  },
  {
   "cell_type": "code",
   "execution_count": 24,
   "outputs": [
    {
     "name": "stdout",
     "output_type": "stream",
     "text": [
      "Наиболее влиятельные признаки для target_2\n"
     ]
    },
    {
     "data": {
      "text/plain": "med_sum_oper_b_3m          0.073326\nogrn_reg                   0.025477\ncnt_days_deb_g_oper_1m     0.024314\ncity_type                  0.023035\ncnt_days_cred_g_oper_3m    0.020812\n                             ...   \nmed_sum_cred_d_oper_3m     0.000000\nbalance_amt_day_avg        0.000000\nmed_sum_cred_f_oper_3m     0.000000\nogrn_days_end_quarter      0.000000\nmed_sum_deb_d_oper_1m      0.000000\nName: MI Scores, Length: 63, dtype: float64"
     },
     "execution_count": 24,
     "metadata": {},
     "output_type": "execute_result"
    }
   ],
   "source": [
    "# для target_2\n",
    "y2 = target_2.to_numpy().ravel()\n",
    "\n",
    "mi_2 = mutual_info_classif(X, y2)\n",
    "\n",
    "mi_sc_2 = pd.Series(mi_2, name=\"MI Scores\", index=X.columns)\n",
    "mi_sc_2 = mi_sc_2.sort_values(ascending=False)\n",
    "\n",
    "\n",
    "# head используем чтобы получить самые влиятельные, tail - наименее влиятельные\n",
    "print('Наиболее влиятельные признаки для target_2')\n",
    "mi_sc_2"
   ],
   "metadata": {
    "collapsed": false,
    "ExecuteTime": {
     "end_time": "2023-10-08T09:46:07.237355500Z",
     "start_time": "2023-10-08T09:44:58.040139300Z"
    }
   }
  },
  {
   "cell_type": "code",
   "execution_count": 25,
   "outputs": [
    {
     "name": "stdout",
     "output_type": "stream",
     "text": [
      "Index(['med_sum_oper_b_3m', 'ogrn_reg', 'cnt_days_deb_g_oper_1m', 'city_type',\n",
      "       'cnt_days_cred_g_oper_3m', 'cnt_days_cred_f_oper_1m',\n",
      "       'cnt_days_cred_f_oper_3m', 'cnt_days_deb_g_oper_3m'],\n",
      "      dtype='object')\n"
     ]
    }
   ],
   "source": [
    "important_features_2 = mi_sc_2.head(8).index\n",
    "print(important_features_2)"
   ],
   "metadata": {
    "collapsed": false,
    "ExecuteTime": {
     "end_time": "2023-10-08T09:46:07.237355500Z",
     "start_time": "2023-10-08T09:46:07.230985800Z"
    }
   }
  },
  {
   "cell_type": "code",
   "execution_count": 26,
   "outputs": [],
   "source": [
    "# import matplotlib.pyplot as plt\n",
    "# import seaborn as sns\n",
    "# sns.pairplot(train_df[important_features_2])\n",
    "# \n",
    "# plt.savefig('target_2')"
   ],
   "metadata": {
    "collapsed": false,
    "pycharm": {
     "is_executing": true
    },
    "ExecuteTime": {
     "end_time": "2023-10-08T09:46:07.248117500Z",
     "start_time": "2023-10-08T09:46:07.237355500Z"
    }
   }
  },
  {
   "cell_type": "markdown",
   "source": [
    "Теперь, когда мы знаем какие признаки не влияют на подсчет первого и второго таргета, мы можем их удалить и получить соответствующие датасеты для target_1 и target_2"
   ],
   "metadata": {
    "collapsed": false
   }
  },
  {
   "cell_type": "code",
   "execution_count": 27,
   "outputs": [],
   "source": [
    "zero_mi_cols_1 = mi_sc_1[mi_sc_1 <= 0.01].index.tolist()\n",
    "X1_train = train_df.drop(columns=zero_mi_cols_1)\n",
    "\n",
    "zero_mi_cols_2 = mi_sc_2[mi_sc_2 <= 0.006].index.tolist()\n",
    "X2_train = train_df.drop(columns=zero_mi_cols_2)"
   ],
   "metadata": {
    "collapsed": false,
    "ExecuteTime": {
     "end_time": "2023-10-08T09:46:07.298009100Z",
     "start_time": "2023-10-08T09:46:07.248117500Z"
    }
   }
  },
  {
   "cell_type": "markdown",
   "source": [
    "Повторим эти действия для тестовой выборки"
   ],
   "metadata": {
    "collapsed": false
   }
  },
  {
   "cell_type": "code",
   "execution_count": 28,
   "outputs": [],
   "source": [
    "X1_test = test_df.drop(columns=zero_mi_cols_1)\n",
    "X2_test = test_df.drop(columns=zero_mi_cols_2)"
   ],
   "metadata": {
    "collapsed": false,
    "ExecuteTime": {
     "end_time": "2023-10-08T09:46:07.298009100Z",
     "start_time": "2023-10-08T09:46:07.274753600Z"
    }
   }
  },
  {
   "cell_type": "markdown",
   "source": [
    "Построим графики зависимостей признаков и таргета"
   ],
   "metadata": {
    "collapsed": false
   }
  },
  {
   "cell_type": "code",
   "execution_count": 29,
   "outputs": [
    {
     "data": {
      "text/plain": "<Figure size 640x480 with 1 Axes>",
      "image/png": "[encoded data removed]"
     },
     "metadata": {},
     "output_type": "display_data"
    },
    {
     "data": {
      "text/plain": "<Figure size 800x4000 with 8 Axes>",
      "image/png": "[encoded data removed]"
     },
     "metadata": {},
     "output_type": "display_data"
    }
   ],
   "source": [
    "import matplotlib.pyplot as plt\n",
    "import seaborn as sns\n",
    "\n",
    "\n",
    "for feature in important_features_1:\n",
    "    sns.scatterplot(x=train_df[feature], y=target_1)\n",
    "\n",
    "import matplotlib.pyplot as plt\n",
    "import seaborn as sns\n",
    "\n",
    "# Создайте общий график с несколькими подграфиками\n",
    "fig, axes = plt.subplots(nrows=len(important_features_1), figsize=(8, 5 * len(important_features_1)))\n",
    "\n",
    "# Итерируйтесь по признакам и стройте диаграммы рассеяния на соответствующих подграфиках\n",
    "for i, feature in enumerate(important_features_1):\n",
    "    sns.scatterplot(x=train_df[feature], y=target_1, ax=axes[i])\n",
    "    axes[i].set_title(feature)\n",
    "\n",
    "# Показать графики\n",
    "plt.tight_layout()\n",
    "plt.show()\n"
   ],
   "metadata": {
    "collapsed": false,
    "ExecuteTime": {
     "end_time": "2023-10-08T09:46:14.054569800Z",
     "start_time": "2023-10-08T09:46:07.291004900Z"
    }
   }
  },
  {
   "cell_type": "markdown",
   "source": [
    "### Обучение модели"
   ],
   "metadata": {
    "collapsed": false
   }
  },
  {
   "cell_type": "code",
   "execution_count": 30,
   "outputs": [
    {
     "data": {
      "text/plain": "0.9325839437793989"
     },
     "execution_count": 30,
     "metadata": {},
     "output_type": "execute_result"
    }
   ],
   "source": [
    "from lightgbm import LGBMClassifier\n",
    "from sklearn.metrics import roc_auc_score\n",
    "from sklearn.model_selection import train_test_split\n",
    "\n",
    "\n",
    "x_train, x_val, y_train, y_val = train_test_split(X1_train, y1,\n",
    "                                                  test_size=0.2,\n",
    "                                                  random_state=42)\n",
    "\n",
    "model = LGBMClassifier(verbosity=-1, random_state=42)\n",
    "model.fit(x_train, y_train)\n",
    "\n",
    "y_pred = model.predict_proba(x_val)[:, 1]\n",
    "roc_auc_score(y_val, y_pred)"
   ],
   "metadata": {
    "collapsed": false,
    "ExecuteTime": {
     "end_time": "2023-10-08T09:46:15.178519300Z",
     "start_time": "2023-10-08T09:46:14.052427600Z"
    }
   }
  },
  {
   "cell_type": "code",
   "execution_count": 31,
   "outputs": [
    {
     "data": {
      "text/plain": "0.7881001603786582"
     },
     "execution_count": 31,
     "metadata": {},
     "output_type": "execute_result"
    }
   ],
   "source": [
    "from lightgbm import LGBMClassifier\n",
    "from sklearn.metrics import roc_auc_score\n",
    "from sklearn.model_selection import train_test_split\n",
    "\n",
    "\n",
    "x_train, x_val, y_train, y_val = train_test_split(X2_train, y2,\n",
    "                                                  test_size=0.2,\n",
    "                                                  random_state=42)\n",
    "\n",
    "model = LGBMClassifier(verbosity=-1, random_state=42)\n",
    "model.fit(x_train, y_train)\n",
    "\n",
    "y_pred = model.predict_proba(x_val)[:, 1]\n",
    "roc_auc_score(y_val, y_pred)"
   ],
   "metadata": {
    "collapsed": false,
    "ExecuteTime": {
     "end_time": "2023-10-08T09:46:15.565646900Z",
     "start_time": "2023-10-08T09:46:15.178519300Z"
    }
   }
  },
  {
   "cell_type": "markdown",
   "source": [],
   "metadata": {
    "collapsed": false
   }
  }
 ],
 "metadata": {
  "kernelspec": {
   "display_name": "Python 3",
   "language": "python",
   "name": "python3"
  },
  "language_info": {
   "codemirror_mode": {
    "name": "ipython",
    "version": 2
   },
   "file_extension": ".py",
   "mimetype": "text/x-python",
   "name": "python",
   "nbconvert_exporter": "python",
   "pygments_lexer": "ipython2",
   "version": "2.7.6"
  }
 },
 "nbformat": 4,
 "nbformat_minor": 0
}
